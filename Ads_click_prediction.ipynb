{
 "cells": [
  {
   "cell_type": "markdown",
   "metadata": {},
   "source": [
    "## Research Question\n",
    "*A Kenyan entrepreneur has created an online cryptography course and would want to advertise it on her blog. She currently targets audiences originating from various countries. In the past, she ran ads to advertise a related course on the same blog and collected data in the process. She would now like to employ your services as a Data Science Consultant to create a solution that would allow her to determine whether ads targeted to audiences of certain characteristics i.e. city, male country, ad topic, etc. would click on her ads. Ceate a prediction model that more accurately predicts whether a user will click an Ad.*\n",
    "\n",
    "## Metrics of success\n",
    "*The accuracy score of the model will be used to measure the predictive power of the model.*"
   ]
  },
  {
   "cell_type": "code",
   "execution_count": 136,
   "metadata": {},
   "outputs": [],
   "source": [
    "# Importing libraries\n",
    "library(tidyverse)\n",
    "library(magrittr)\n",
    "library(corrplot)\n",
    "library(caret)\n",
    "library(skimr)\n",
    "library(gridExtra)\n",
    "library(ggExtra)\n",
    "library(ggcorrplot)\n",
    "theme_set(theme_classic())\n",
    "options(warn = -1)"
   ]
  },
  {
   "cell_type": "code",
   "execution_count": 2,
   "metadata": {},
   "outputs": [
    {
     "name": "stderr",
     "output_type": "stream",
     "text": [
      "Parsed with column specification:\n",
      "cols(\n",
      "  `Daily Time Spent on Site` = \u001b[32mcol_double()\u001b[39m,\n",
      "  Age = \u001b[32mcol_double()\u001b[39m,\n",
      "  `Area Income` = \u001b[32mcol_double()\u001b[39m,\n",
      "  `Daily Internet Usage` = \u001b[32mcol_double()\u001b[39m,\n",
      "  `Ad Topic Line` = \u001b[31mcol_character()\u001b[39m,\n",
      "  City = \u001b[31mcol_character()\u001b[39m,\n",
      "  Male = \u001b[32mcol_double()\u001b[39m,\n",
      "  Country = \u001b[31mcol_character()\u001b[39m,\n",
      "  Timestamp = \u001b[34mcol_datetime(format = \"\")\u001b[39m,\n",
      "  `Clicked on Ad` = \u001b[32mcol_double()\u001b[39m\n",
      ")\n",
      "\n"
     ]
    },
    {
     "data": {
      "text/html": [
       "<table>\n",
       "<caption>A tibble: 6 × 10</caption>\n",
       "<thead>\n",
       "\t<tr><th scope=col>Daily Time Spent on Site</th><th scope=col>Age</th><th scope=col>Area Income</th><th scope=col>Daily Internet Usage</th><th scope=col>Ad Topic Line</th><th scope=col>City</th><th scope=col>Male</th><th scope=col>Country</th><th scope=col>Timestamp</th><th scope=col>Clicked on Ad</th></tr>\n",
       "\t<tr><th scope=col>&lt;dbl&gt;</th><th scope=col>&lt;dbl&gt;</th><th scope=col>&lt;dbl&gt;</th><th scope=col>&lt;dbl&gt;</th><th scope=col>&lt;chr&gt;</th><th scope=col>&lt;chr&gt;</th><th scope=col>&lt;dbl&gt;</th><th scope=col>&lt;chr&gt;</th><th scope=col>&lt;dttm&gt;</th><th scope=col>&lt;dbl&gt;</th></tr>\n",
       "</thead>\n",
       "<tbody>\n",
       "\t<tr><td>68.95</td><td>35</td><td>61833.90</td><td>256.09</td><td>Cloned 5thgeneration orchestration   </td><td>Wrightburgh   </td><td>0</td><td>Tunisia   </td><td>2016-03-27 00:53:11</td><td>0</td></tr>\n",
       "\t<tr><td>80.23</td><td>31</td><td>68441.85</td><td>193.77</td><td>Monitored national standardization   </td><td>West Jodi     </td><td>1</td><td>Nauru     </td><td>2016-04-04 01:39:02</td><td>0</td></tr>\n",
       "\t<tr><td>69.47</td><td>26</td><td>59785.94</td><td>236.50</td><td>Organic bottom-line service-desk     </td><td>Davidton      </td><td>0</td><td>San Marino</td><td>2016-03-13 20:35:42</td><td>0</td></tr>\n",
       "\t<tr><td>74.15</td><td>29</td><td>54806.18</td><td>245.89</td><td>Triple-buffered reciprocal time-frame</td><td>West Terrifurt</td><td>1</td><td>Italy     </td><td>2016-01-10 02:31:19</td><td>0</td></tr>\n",
       "\t<tr><td>68.37</td><td>35</td><td>73889.99</td><td>225.58</td><td>Robust logistical utilization        </td><td>South Manuel  </td><td>0</td><td>Iceland   </td><td>2016-06-03 03:36:18</td><td>0</td></tr>\n",
       "\t<tr><td>59.99</td><td>23</td><td>59761.56</td><td>226.74</td><td>Sharable client-driven software      </td><td>Jamieberg     </td><td>1</td><td>Norway    </td><td>2016-05-19 14:30:17</td><td>0</td></tr>\n",
       "</tbody>\n",
       "</table>\n"
      ],
      "text/latex": [
       "A tibble: 6 × 10\n",
       "\\begin{tabular}{r|llllllllll}\n",
       " Daily Time Spent on Site & Age & Area Income & Daily Internet Usage & Ad Topic Line & City & Male & Country & Timestamp & Clicked on Ad\\\\\n",
       " <dbl> & <dbl> & <dbl> & <dbl> & <chr> & <chr> & <dbl> & <chr> & <dttm> & <dbl>\\\\\n",
       "\\hline\n",
       "\t 68.95 & 35 & 61833.90 & 256.09 & Cloned 5thgeneration orchestration    & Wrightburgh    & 0 & Tunisia    & 2016-03-27 00:53:11 & 0\\\\\n",
       "\t 80.23 & 31 & 68441.85 & 193.77 & Monitored national standardization    & West Jodi      & 1 & Nauru      & 2016-04-04 01:39:02 & 0\\\\\n",
       "\t 69.47 & 26 & 59785.94 & 236.50 & Organic bottom-line service-desk      & Davidton       & 0 & San Marino & 2016-03-13 20:35:42 & 0\\\\\n",
       "\t 74.15 & 29 & 54806.18 & 245.89 & Triple-buffered reciprocal time-frame & West Terrifurt & 1 & Italy      & 2016-01-10 02:31:19 & 0\\\\\n",
       "\t 68.37 & 35 & 73889.99 & 225.58 & Robust logistical utilization         & South Manuel   & 0 & Iceland    & 2016-06-03 03:36:18 & 0\\\\\n",
       "\t 59.99 & 23 & 59761.56 & 226.74 & Sharable client-driven software       & Jamieberg      & 1 & Norway     & 2016-05-19 14:30:17 & 0\\\\\n",
       "\\end{tabular}\n"
      ],
      "text/markdown": [
       "\n",
       "A tibble: 6 × 10\n",
       "\n",
       "| Daily Time Spent on Site &lt;dbl&gt; | Age &lt;dbl&gt; | Area Income &lt;dbl&gt; | Daily Internet Usage &lt;dbl&gt; | Ad Topic Line &lt;chr&gt; | City &lt;chr&gt; | Male &lt;dbl&gt; | Country &lt;chr&gt; | Timestamp &lt;dttm&gt; | Clicked on Ad &lt;dbl&gt; |\n",
       "|---|---|---|---|---|---|---|---|---|---|\n",
       "| 68.95 | 35 | 61833.90 | 256.09 | Cloned 5thgeneration orchestration    | Wrightburgh    | 0 | Tunisia    | 2016-03-27 00:53:11 | 0 |\n",
       "| 80.23 | 31 | 68441.85 | 193.77 | Monitored national standardization    | West Jodi      | 1 | Nauru      | 2016-04-04 01:39:02 | 0 |\n",
       "| 69.47 | 26 | 59785.94 | 236.50 | Organic bottom-line service-desk      | Davidton       | 0 | San Marino | 2016-03-13 20:35:42 | 0 |\n",
       "| 74.15 | 29 | 54806.18 | 245.89 | Triple-buffered reciprocal time-frame | West Terrifurt | 1 | Italy      | 2016-01-10 02:31:19 | 0 |\n",
       "| 68.37 | 35 | 73889.99 | 225.58 | Robust logistical utilization         | South Manuel   | 0 | Iceland    | 2016-06-03 03:36:18 | 0 |\n",
       "| 59.99 | 23 | 59761.56 | 226.74 | Sharable client-driven software       | Jamieberg      | 1 | Norway     | 2016-05-19 14:30:17 | 0 |\n",
       "\n"
      ],
      "text/plain": [
       "  Daily Time Spent on Site Age Area Income Daily Internet Usage\n",
       "1 68.95                    35  61833.90    256.09              \n",
       "2 80.23                    31  68441.85    193.77              \n",
       "3 69.47                    26  59785.94    236.50              \n",
       "4 74.15                    29  54806.18    245.89              \n",
       "5 68.37                    35  73889.99    225.58              \n",
       "6 59.99                    23  59761.56    226.74              \n",
       "  Ad Topic Line                         City           Male Country   \n",
       "1 Cloned 5thgeneration orchestration    Wrightburgh    0    Tunisia   \n",
       "2 Monitored national standardization    West Jodi      1    Nauru     \n",
       "3 Organic bottom-line service-desk      Davidton       0    San Marino\n",
       "4 Triple-buffered reciprocal time-frame West Terrifurt 1    Italy     \n",
       "5 Robust logistical utilization         South Manuel   0    Iceland   \n",
       "6 Sharable client-driven software       Jamieberg      1    Norway    \n",
       "  Timestamp           Clicked on Ad\n",
       "1 2016-03-27 00:53:11 0            \n",
       "2 2016-04-04 01:39:02 0            \n",
       "3 2016-03-13 20:35:42 0            \n",
       "4 2016-01-10 02:31:19 0            \n",
       "5 2016-06-03 03:36:18 0            \n",
       "6 2016-05-19 14:30:17 0            "
      ]
     },
     "metadata": {},
     "output_type": "display_data"
    }
   ],
   "source": [
    "# Loading the csv file\n",
    "df = read_csv('advertising.csv')\n",
    "\n",
    "# Previewing the first five rows of the dataframe\n",
    "head(df)"
   ]
  },
  {
   "cell_type": "code",
   "execution_count": 3,
   "metadata": {},
   "outputs": [
    {
     "data": {
      "text/html": [
       "<ol class=list-inline>\n",
       "\t<li>'spec_tbl_df'</li>\n",
       "\t<li>'tbl_df'</li>\n",
       "\t<li>'tbl'</li>\n",
       "\t<li>'data.frame'</li>\n",
       "</ol>\n"
      ],
      "text/latex": [
       "\\begin{enumerate*}\n",
       "\\item 'spec\\_tbl\\_df'\n",
       "\\item 'tbl\\_df'\n",
       "\\item 'tbl'\n",
       "\\item 'data.frame'\n",
       "\\end{enumerate*}\n"
      ],
      "text/markdown": [
       "1. 'spec_tbl_df'\n",
       "2. 'tbl_df'\n",
       "3. 'tbl'\n",
       "4. 'data.frame'\n",
       "\n",
       "\n"
      ],
      "text/plain": [
       "[1] \"spec_tbl_df\" \"tbl_df\"      \"tbl\"         \"data.frame\" "
      ]
     },
     "metadata": {},
     "output_type": "display_data"
    }
   ],
   "source": [
    "# Checking the class type of the loaded file\n",
    "class(df)\n",
    "\n",
    "# Changing loaded file to dataframe\n",
    "df = as.data.frame(df)"
   ]
  },
  {
   "cell_type": "code",
   "execution_count": 4,
   "metadata": {},
   "outputs": [
    {
     "name": "stdout",
     "output_type": "stream",
     "text": [
      "Observations: 1,000\n",
      "Variables: 10\n",
      "$ `Daily Time Spent on Site` \u001b[3m\u001b[90m<dbl>\u001b[39m\u001b[23m 68.95, 80.23, 69.47, 74.15, 68.37, 59.99...\n",
      "$ Age                        \u001b[3m\u001b[90m<dbl>\u001b[39m\u001b[23m 35, 31, 26, 29, 35, 23, 33, 48, 30, 20, ...\n",
      "$ `Area Income`              \u001b[3m\u001b[90m<dbl>\u001b[39m\u001b[23m 61833.90, 68441.85, 59785.94, 54806.18, ...\n",
      "$ `Daily Internet Usage`     \u001b[3m\u001b[90m<dbl>\u001b[39m\u001b[23m 256.09, 193.77, 236.50, 245.89, 225.58, ...\n",
      "$ `Ad Topic Line`            \u001b[3m\u001b[90m<chr>\u001b[39m\u001b[23m \"Cloned 5thgeneration orchestration\", \"M...\n",
      "$ City                       \u001b[3m\u001b[90m<chr>\u001b[39m\u001b[23m \"Wrightburgh\", \"West Jodi\", \"Davidton\", ...\n",
      "$ Male                       \u001b[3m\u001b[90m<dbl>\u001b[39m\u001b[23m 0, 1, 0, 1, 0, 1, 0, 1, 1, 1, 0, 1, 1, 0...\n",
      "$ Country                    \u001b[3m\u001b[90m<chr>\u001b[39m\u001b[23m \"Tunisia\", \"Nauru\", \"San Marino\", \"Italy...\n",
      "$ Timestamp                  \u001b[3m\u001b[90m<dttm>\u001b[39m\u001b[23m 2016-03-27 00:53:11, 2016-04-04 01:39:0...\n",
      "$ `Clicked on Ad`            \u001b[3m\u001b[90m<dbl>\u001b[39m\u001b[23m 0, 0, 0, 0, 0, 0, 0, 1, 0, 0, 1, 0, 1, 0...\n"
     ]
    }
   ],
   "source": [
    "# Taking a glimpse on some of the data in the dataframe\n",
    "glimpse(df)"
   ]
  },
  {
   "cell_type": "code",
   "execution_count": 5,
   "metadata": {},
   "outputs": [
    {
     "data": {
      "text/plain": [
       " Daily Time Spent on Site      Age         Area Income    Daily Internet Usage\n",
       " Min.   :32.60            Min.   :19.00   Min.   :13996   Min.   :104.8       \n",
       " 1st Qu.:51.36            1st Qu.:29.00   1st Qu.:47032   1st Qu.:138.8       \n",
       " Median :68.22            Median :35.00   Median :57012   Median :183.1       \n",
       " Mean   :65.00            Mean   :36.01   Mean   :55000   Mean   :180.0       \n",
       " 3rd Qu.:78.55            3rd Qu.:42.00   3rd Qu.:65471   3rd Qu.:218.8       \n",
       " Max.   :91.43            Max.   :61.00   Max.   :79485   Max.   :270.0       \n",
       " Ad Topic Line          City                Male         Country         \n",
       " Length:1000        Length:1000        Min.   :0.000   Length:1000       \n",
       " Class :character   Class :character   1st Qu.:0.000   Class :character  \n",
       " Mode  :character   Mode  :character   Median :0.000   Mode  :character  \n",
       "                                       Mean   :0.481                     \n",
       "                                       3rd Qu.:1.000                     \n",
       "                                       Max.   :1.000                     \n",
       "   Timestamp                   Clicked on Ad\n",
       " Min.   :2016-01-01 02:52:10   Min.   :0.0  \n",
       " 1st Qu.:2016-02-18 02:55:42   1st Qu.:0.0  \n",
       " Median :2016-04-07 17:27:29   Median :0.5  \n",
       " Mean   :2016-04-10 10:34:06   Mean   :0.5  \n",
       " 3rd Qu.:2016-05-31 03:18:14   3rd Qu.:1.0  \n",
       " Max.   :2016-07-24 00:22:16   Max.   :1.0  "
      ]
     },
     "metadata": {},
     "output_type": "display_data"
    }
   ],
   "source": [
    "# Checking some statistical summaries of the data\n",
    "summary(df)"
   ]
  },
  {
   "cell_type": "code",
   "execution_count": 6,
   "metadata": {},
   "outputs": [
    {
     "data": {
      "text/html": [
       "<ol class=list-inline>\n",
       "\t<li>1000</li>\n",
       "\t<li>10</li>\n",
       "</ol>\n"
      ],
      "text/latex": [
       "\\begin{enumerate*}\n",
       "\\item 1000\n",
       "\\item 10\n",
       "\\end{enumerate*}\n"
      ],
      "text/markdown": [
       "1. 1000\n",
       "2. 10\n",
       "\n",
       "\n"
      ],
      "text/plain": [
       "[1] 1000   10"
      ]
     },
     "metadata": {},
     "output_type": "display_data"
    }
   ],
   "source": [
    "# Checking for the dimensions of the dataframe\n",
    "dim(df)"
   ]
  },
  {
   "cell_type": "markdown",
   "metadata": {},
   "source": [
    "*The dataset has 1000 observations with a rank of 10*"
   ]
  },
  {
   "cell_type": "code",
   "execution_count": 7,
   "metadata": {},
   "outputs": [
    {
     "name": "stdout",
     "output_type": "stream",
     "text": [
      "'data.frame':\t1000 obs. of  10 variables:\n",
      " $ Daily Time Spent on Site: num  69 80.2 69.5 74.2 68.4 ...\n",
      " $ Age                     : num  35 31 26 29 35 23 33 48 30 20 ...\n",
      " $ Area Income             : num  61834 68442 59786 54806 73890 ...\n",
      " $ Daily Internet Usage    : num  256 194 236 246 226 ...\n",
      " $ Ad Topic Line           : chr  \"Cloned 5thgeneration orchestration\" \"Monitored national standardization\" \"Organic bottom-line service-desk\" \"Triple-buffered reciprocal time-frame\" ...\n",
      " $ City                    : chr  \"Wrightburgh\" \"West Jodi\" \"Davidton\" \"West Terrifurt\" ...\n",
      " $ Male                    : num  0 1 0 1 0 1 0 1 1 1 ...\n",
      " $ Country                 : chr  \"Tunisia\" \"Nauru\" \"San Marino\" \"Italy\" ...\n",
      " $ Timestamp               : POSIXct, format: \"2016-03-27 00:53:11\" \"2016-04-04 01:39:02\" ...\n",
      " $ Clicked on Ad           : num  0 0 0 0 0 0 0 1 0 0 ...\n",
      " - attr(*, \"spec\")=\n",
      "  .. cols(\n",
      "  ..   `Daily Time Spent on Site` = \u001b[32mcol_double()\u001b[39m,\n",
      "  ..   Age = \u001b[32mcol_double()\u001b[39m,\n",
      "  ..   `Area Income` = \u001b[32mcol_double()\u001b[39m,\n",
      "  ..   `Daily Internet Usage` = \u001b[32mcol_double()\u001b[39m,\n",
      "  ..   `Ad Topic Line` = \u001b[31mcol_character()\u001b[39m,\n",
      "  ..   City = \u001b[31mcol_character()\u001b[39m,\n",
      "  ..   Male = \u001b[32mcol_double()\u001b[39m,\n",
      "  ..   Country = \u001b[31mcol_character()\u001b[39m,\n",
      "  ..   Timestamp = \u001b[34mcol_datetime(format = \"\")\u001b[39m,\n",
      "  ..   `Clicked on Ad` = \u001b[32mcol_double()\u001b[39m\n",
      "  .. )\n"
     ]
    }
   ],
   "source": [
    "str(df)"
   ]
  },
  {
   "cell_type": "code",
   "execution_count": 6,
   "metadata": {},
   "outputs": [
    {
     "name": "stdout",
     "output_type": "stream",
     "text": [
      " [1] \"daily_time_spent_on_site\" \"age\"                     \n",
      " [3] \"area_income\"              \"daily_internet_usage\"    \n",
      " [5] \"ad_topic_line\"            \"city\"                    \n",
      " [7] \"male\"                     \"country\"                 \n",
      " [9] \"timestamp\"                \"clicked_on_ad\"           \n"
     ]
    }
   ],
   "source": [
    "# Changing column names to lower and replacing spaces with an underscore for readability and easy reference\n",
    "colnames(df) = tolower(str_replace_all(colnames(df), c(' ' = '_')))\n",
    "\n",
    "# Checking whether the column names have been renames appriopriately\n",
    "print(colnames(df))"
   ]
  },
  {
   "cell_type": "markdown",
   "metadata": {},
   "source": [
    "*There are ten variables/ features in the dataset*"
   ]
  },
  {
   "cell_type": "code",
   "execution_count": 7,
   "metadata": {},
   "outputs": [],
   "source": [
    "# The male column should be renamed to gender\n",
    "colnames(df)[colnames(df) == 'male'] = 'gender'"
   ]
  },
  {
   "cell_type": "code",
   "execution_count": 8,
   "metadata": {},
   "outputs": [
    {
     "name": "stdout",
     "output_type": "stream",
     "text": [
      "[1] \"daily_time_spent_on_site\"\n",
      "[1] \"numeric\"\n",
      "\n",
      "[1] \"age\"\n",
      "[1] \"numeric\"\n",
      "\n",
      "[1] \"area_income\"\n",
      "[1] \"numeric\"\n",
      "\n",
      "[1] \"daily_internet_usage\"\n",
      "[1] \"numeric\"\n",
      "\n",
      "[1] \"ad_topic_line\"\n",
      "[1] \"character\"\n",
      "\n",
      "[1] \"city\"\n",
      "[1] \"character\"\n",
      "\n",
      "[1] \"gender\"\n",
      "[1] \"numeric\"\n",
      "\n",
      "[1] \"country\"\n",
      "[1] \"character\"\n",
      "\n",
      "[1] \"timestamp\"\n",
      "[1] \"POSIXct\" \"POSIXt\" \n",
      "\n",
      "[1] \"clicked_on_ad\"\n",
      "[1] \"numeric\"\n",
      "\n"
     ]
    }
   ],
   "source": [
    "# Checking the datatypes for each column\n",
    "columns = colnames(df)\n",
    "for (column in seq(length(colnames(df)))){\n",
    "    print(columns[column])\n",
    "    print(class(df[, column]))\n",
    "    cat('\\n')\n",
    "}"
   ]
  },
  {
   "cell_type": "code",
   "execution_count": 9,
   "metadata": {},
   "outputs": [],
   "source": [
    "# Changing column names to their appriopriate data type\n",
    "# Creating a lists of categorical and numerical columns \n",
    "\n",
    "# List of categorical columns\n",
    "cat_cols = c(\"ad_topic_line\", \"city\", \"gender\", \"country\", \"clicked_on_ad\" )\n",
    "\n",
    "# List of numerical columns\n",
    "num_cols = c(\"daily_time_spent_on_site\", \"age\", \"area_income\", \"daily_internet_usage\")\n",
    "\n",
    "# Changing columns to factors\n",
    "df[,cat_cols] %<>% lapply(function(x) as.factor(as.character(x)))"
   ]
  },
  {
   "cell_type": "code",
   "execution_count": 13,
   "metadata": {},
   "outputs": [
    {
     "name": "stdout",
     "output_type": "stream",
     "text": [
      "[1] \"daily_time_spent_on_site\"\n",
      "[1] \"numeric\"\n",
      "[1] 0\n",
      "\n",
      "[1] \"age\"\n",
      "[1] \"numeric\"\n",
      "[1] 0\n",
      "\n",
      "[1] \"area_income\"\n",
      "[1] \"numeric\"\n",
      "[1] 0\n",
      "\n",
      "[1] \"daily_internet_usage\"\n",
      "[1] \"numeric\"\n",
      "[1] 0\n",
      "\n",
      "[1] \"ad_topic_line\"\n",
      "[1] \"factor\"\n",
      "[1] 1000\n",
      "\n",
      "[1] \"city\"\n",
      "[1] \"factor\"\n",
      "[1] 969\n",
      "\n",
      "[1] \"gender\"\n",
      "[1] \"factor\"\n",
      "[1] 2\n",
      "\n",
      "[1] \"country\"\n",
      "[1] \"factor\"\n",
      "[1] 237\n",
      "\n",
      "[1] \"timestamp\"\n",
      "[1] \"POSIXct\" \"POSIXt\" \n",
      "[1] 0\n",
      "\n",
      "[1] \"clicked_on_ad\"\n",
      "[1] \"factor\"\n",
      "[1] 2\n",
      "\n"
     ]
    }
   ],
   "source": [
    "# Checking whether the datatypes for each column have been changed apprippriately\n",
    "columns = colnames(df)\n",
    "for (column in seq(length(colnames(df)))){\n",
    "    print(columns[column])\n",
    "    print(class(df[, column]))\n",
    "    print(nlevels(df[, column]))\n",
    "    cat('\\n')\n",
    "}"
   ]
  },
  {
   "cell_type": "markdown",
   "metadata": {},
   "source": [
    "*Inferences that can be drawn from the above summary:*\n",
    " - *There are 969 unique cities in the dataset.*\n",
    " - *There are 237 inique counties in the dataset*\n",
    " - *All the values in the ___ad_topic_line___ variable are unique, therefore they wont add new information when modelling*"
   ]
  },
  {
   "cell_type": "code",
   "execution_count": 14,
   "metadata": {},
   "outputs": [
    {
     "data": {
      "text/html": [
       "<dl class=dl-horizontal>\n",
       "\t<dt>daily_time_spent_on_site</dt>\n",
       "\t\t<dd>0</dd>\n",
       "\t<dt>age</dt>\n",
       "\t\t<dd>0</dd>\n",
       "\t<dt>area_income</dt>\n",
       "\t\t<dd>0</dd>\n",
       "\t<dt>daily_internet_usage</dt>\n",
       "\t\t<dd>0</dd>\n",
       "\t<dt>ad_topic_line</dt>\n",
       "\t\t<dd>0</dd>\n",
       "\t<dt>city</dt>\n",
       "\t\t<dd>0</dd>\n",
       "\t<dt>gender</dt>\n",
       "\t\t<dd>0</dd>\n",
       "\t<dt>country</dt>\n",
       "\t\t<dd>0</dd>\n",
       "\t<dt>timestamp</dt>\n",
       "\t\t<dd>0</dd>\n",
       "\t<dt>clicked_on_ad</dt>\n",
       "\t\t<dd>0</dd>\n",
       "</dl>\n"
      ],
      "text/latex": [
       "\\begin{description*}\n",
       "\\item[daily\\textbackslash{}\\_time\\textbackslash{}\\_spent\\textbackslash{}\\_on\\textbackslash{}\\_site] 0\n",
       "\\item[age] 0\n",
       "\\item[area\\textbackslash{}\\_income] 0\n",
       "\\item[daily\\textbackslash{}\\_internet\\textbackslash{}\\_usage] 0\n",
       "\\item[ad\\textbackslash{}\\_topic\\textbackslash{}\\_line] 0\n",
       "\\item[city] 0\n",
       "\\item[gender] 0\n",
       "\\item[country] 0\n",
       "\\item[timestamp] 0\n",
       "\\item[clicked\\textbackslash{}\\_on\\textbackslash{}\\_ad] 0\n",
       "\\end{description*}\n"
      ],
      "text/markdown": [
       "daily_time_spent_on_site\n",
       ":   0age\n",
       ":   0area_income\n",
       ":   0daily_internet_usage\n",
       ":   0ad_topic_line\n",
       ":   0city\n",
       ":   0gender\n",
       ":   0country\n",
       ":   0timestamp\n",
       ":   0clicked_on_ad\n",
       ":   0\n",
       "\n"
      ],
      "text/plain": [
       "daily_time_spent_on_site                      age              area_income \n",
       "                       0                        0                        0 \n",
       "    daily_internet_usage            ad_topic_line                     city \n",
       "                       0                        0                        0 \n",
       "                  gender                  country                timestamp \n",
       "                       0                        0                        0 \n",
       "           clicked_on_ad \n",
       "                       0 "
      ]
     },
     "metadata": {},
     "output_type": "display_data"
    }
   ],
   "source": [
    "# Checking for missing values\n",
    "colSums(is.na(df))"
   ]
  },
  {
   "cell_type": "markdown",
   "metadata": {},
   "source": [
    "*There are no missing values in the dataset*"
   ]
  },
  {
   "cell_type": "code",
   "execution_count": 15,
   "metadata": {},
   "outputs": [
    {
     "data": {
      "text/html": [
       "0"
      ],
      "text/latex": [
       "0"
      ],
      "text/markdown": [
       "0"
      ],
      "text/plain": [
       "[1] 0"
      ]
     },
     "metadata": {},
     "output_type": "display_data"
    }
   ],
   "source": [
    "# Checking for duplicates\n",
    "anyDuplicated(df)"
   ]
  },
  {
   "cell_type": "markdown",
   "metadata": {},
   "source": [
    "*There is no duplicated data in the dataset*"
   ]
  },
  {
   "cell_type": "code",
   "execution_count": 16,
   "metadata": {},
   "outputs": [
    {
     "data": {
      "text/plain": [
       "\n",
       "  0   1 \n",
       "519 481 "
      ]
     },
     "metadata": {},
     "output_type": "display_data"
    }
   ],
   "source": [
    "# Frequency tables\n",
    "table(df$gender)"
   ]
  },
  {
   "cell_type": "markdown",
   "metadata": {},
   "source": [
    "*The gender variable is fairly balanced, with females slightly more than the males*"
   ]
  },
  {
   "cell_type": "code",
   "execution_count": 17,
   "metadata": {},
   "outputs": [
    {
     "data": {
      "text/plain": [
       "\n",
       "  0   1 \n",
       "500 500 "
      ]
     },
     "metadata": {},
     "output_type": "display_data"
    }
   ],
   "source": [
    "table(df$clicked_on_ad)"
   ]
  },
  {
   "cell_type": "markdown",
   "metadata": {},
   "source": [
    "*The dataset is well balanced with a ratio of ___1:1___*"
   ]
  },
  {
   "cell_type": "code",
   "execution_count": 10,
   "metadata": {},
   "outputs": [],
   "source": [
    "# Renaming the target variable to appriopriate R names\n",
    "levels(df$clicked_on_ad) = c(\"Yes\", \"No\")"
   ]
  },
  {
   "cell_type": "code",
   "execution_count": 122,
   "metadata": {},
   "outputs": [
    {
     "data": {
      "image/png": "[encoded data removed]",
      "text/plain": [
       "plot without title"
      ]
     },
     "metadata": {
      "image/png": {
       "height": 420,
       "width": 780
      },
      "text/plain": {
       "height": 420,
       "width": 780
      }
     },
     "output_type": "display_data"
    }
   ],
   "source": [
    "options(repr.plot.width = 13, repr.plot.height = 7)\n",
    "gg = ggplot(data = df, aes(x = age, y = area_income, col = gender)) + \n",
    "    geom_point() + \n",
    "    labs(title = 'Age Vs Area income', x = 'Age in years', y = 'Area income') + \n",
    "    scale_color_brewer(palette = 'Set1') +\n",
    "    theme(plot.title=element_text(size=20, face=\"bold\", color=\"darkmagenta\",hjust=0.5, lineheight=1.2), \n",
    "          plot.subtitle=element_text(size=15, face=\"bold\", hjust=0.5),\n",
    "         axis.title.x = element_text(color = 'darkmagenta', size = 15, face = 'bold', vjust = -0.5),\n",
    "         axis.title.y = element_text(color = 'darkmagenta', size = 15, face = 'bold', vjust = 0.5),\n",
    "         axis.text.y = element_text(size = 15),axis.text.x = element_text(size = 15),\n",
    "         legend.title = element_text(size = 18, color = 'darkmagenta'),\n",
    "        legend.text = element_text(size = 15))\n",
    "plot(gg)"
   ]
  },
  {
   "cell_type": "code",
   "execution_count": 120,
   "metadata": {},
   "outputs": [
    {
     "data": {
      "image/png": "[encoded data removed]",
      "text/plain": [
       "plot without title"
      ]
     },
     "metadata": {
      "image/png": {
       "height": 420,
       "width": 780
      },
      "text/plain": {
       "height": 420,
       "width": 780
      }
     },
     "output_type": "display_data"
    }
   ],
   "source": [
    "options(repr.plot.width = 13, repr.plot.height = 7)\n",
    "p1 = ggplot(data = df, aes(age)) +\n",
    "        geom_density(aes(fill=factor(clicked_on_ad)), alpha = 0.8) +\n",
    "        labs(title = 'Clicked on ad density plot', x = 'Age', y = 'Density', fill = 'Clicked on ad') +\n",
    "        scale_color_brewer(palette = 'cool') +\n",
    "        theme(plot.title = element_text(size = 18, face = 'bold', color = 'darkmagenta'),\n",
    "             axis.title.x = element_text(size = 15, face = 'bold', color = 'darkmagenta'),\n",
    "             axis.title.y = element_text(size = 15, face = 'bold', color = 'darkmagenta'),\n",
    "             axis.text.x = element_text(size = 13, angle = 45),\n",
    "             axis.text.y = element_text(size = 13),\n",
    "             legend.title = element_text(size = 13, color = 'darkmagenta'),\n",
    "             legend.text = element_text(size = 12))\n",
    "plot(p1)"
   ]
  },
  {
   "cell_type": "code",
   "execution_count": 123,
   "metadata": {},
   "outputs": [
    {
     "data": {
      "image/png": "[encoded data removed]",
      "text/plain": [
       "plot without title"
      ]
     },
     "metadata": {
      "image/png": {
       "height": 420,
       "width": 780
      },
      "text/plain": {
       "height": 420,
       "width": 780
      }
     },
     "output_type": "display_data"
    }
   ],
   "source": [
    "options(repr.plot.width = 13, repr.plot.height = 7)\n",
    "p2 = ggplot(data = df, aes(age)) +\n",
    "        geom_density(aes(fill=factor(clicked_on_ad)), alpha = 0.8) +\n",
    "        labs(title = 'Gender density plot', x = 'Age', y = 'Density', fill = 'Gender') +\n",
    "        scale_color_brewer(palette = 'cool') +\n",
    "        theme(plot.title = element_text(size = 18, face = 'bold', color = 'darkmagenta'),\n",
    "             axis.title.x = element_text(size = 15, face = 'bold', color = 'darkmagenta'),\n",
    "             axis.title.y = element_text(size = 15, face = 'bold', color = 'darkmagenta'),\n",
    "             axis.text.x = element_text(size = 13, angle = 45),\n",
    "             axis.text.y = element_text(size = 13),\n",
    "             legend.title = element_text(size = 13, color = 'darkmagenta'),\n",
    "             legend.text = element_text(size = 12))\n",
    "plot(p2)"
   ]
  },
  {
   "cell_type": "code",
   "execution_count": 154,
   "metadata": {},
   "outputs": [
    {
     "data": {
      "image/png": "[encoded data removed]",
      "text/plain": [
       "plot without title"
      ]
     },
     "metadata": {
      "image/png": {
       "height": 420,
       "width": 780
      },
      "text/plain": {
       "height": 420,
       "width": 780
      }
     },
     "output_type": "display_data"
    }
   ],
   "source": [
    "options(repr.plot.width = 13, repr.plot.height = 7)\n",
    "ggplot(data = df, aes(x = gender, y = daily_internet_usage)) + \n",
    "    geom_boxplot(aes(fill = factor(clicked_on_ad))) + \n",
    "    labs(title = 'Daily internet usage Vs Gender', y = 'Daily internet usage', x = 'Gender', fill = 'Clicked on ad') +\n",
    "    scale_color_brewer(palette = 'cool') +\n",
    "    theme(plot.title = element_text(size = 18, face = 'bold', color = 'darkmagenta'),\n",
    "             axis.title.x = element_text(size = 15, face = 'bold', color = 'darkmagenta'),\n",
    "             axis.title.y = element_text(size = 15, face = 'bold', color = 'darkmagenta'),\n",
    "             axis.text.x = element_text(size = 13),\n",
    "             axis.text.y = element_text(size = 13),\n",
    "             legend.title = element_text(size = 13, color = 'darkmagenta'),\n",
    "             legend.text = element_text(size = 12))"
   ]
  },
  {
   "cell_type": "code",
   "execution_count": 165,
   "metadata": {},
   "outputs": [
    {
     "name": "stderr",
     "output_type": "stream",
     "text": [
      "`stat_bindot()` using `bins = 30`. Pick better value with `binwidth`.\n",
      "\n"
     ]
    },
    {
     "data": {
      "image/png": "[encoded data removed]",
      "text/plain": [
       "plot without title"
      ]
     },
     "metadata": {
      "image/png": {
       "height": 420,
       "width": 780
      },
      "text/plain": {
       "height": 420,
       "width": 780
      }
     },
     "output_type": "display_data"
    }
   ],
   "source": [
    "options(repr.plot.width = 13, repr.plot.height = 7)\n",
    "ggplot(data = df, aes(x = gender, y = area_income)) + \n",
    "    geom_boxplot(aes(fill = factor(clicked_on_ad))) + \n",
    "    geom_dotplot(binaxis = 'y', stackdir = 'center', dotsize = .5, fill = 'maroon') +\n",
    "    labs(title = 'Area income usage Vs Gender', y = 'Area income', x = 'Gender', fill = 'Clicked on ad') +\n",
    "    scale_color_brewer(palette = 'cool') +\n",
    "    theme(plot.title = element_text(size = 18, face = 'bold', color = 'darkmagenta'),\n",
    "             axis.title.x = element_text(size = 15, face = 'bold', color = 'darkmagenta'),\n",
    "             axis.title.y = element_text(size = 15, face = 'bold', color = 'darkmagenta'),\n",
    "             axis.text.x = element_text(size = 13),\n",
    "             axis.text.y = element_text(size = 13),\n",
    "             legend.title = element_text(size = 13, color = 'darkmagenta'),\n",
    "             legend.text = element_text(size = 12))"
   ]
  },
  {
   "cell_type": "code",
   "execution_count": 125,
   "metadata": {},
   "outputs": [
    {
     "data": {
      "image/png": "[encoded data removed]",
      "text/plain": [
       "plot without title"
      ]
     },
     "metadata": {
      "image/png": {
       "height": 420,
       "width": 780
      },
      "text/plain": {
       "height": 420,
       "width": 780
      }
     },
     "output_type": "display_data"
    }
   ],
   "source": [
    "options(repr.plot.width = 13, repr.plot.height = 7)\n",
    "ggplot(data = df, aes(x = gender))+\n",
    "    geom_bar(aes(fill = clicked_on_ad))+\n",
    "    labs(title = 'Gender, clicked on ad Frequency', y = 'Frequency', x = 'Gender', fill = 'Clicked on ad') +\n",
    "    scale_color_brewer(palette = 'cool') +\n",
    "    theme(plot.title = element_text(size = 18, face = 'bold', color = 'darkmagenta'),\n",
    "             axis.title.x = element_text(size = 15, face = 'bold', color = 'darkmagenta'),\n",
    "             axis.title.y = element_text(size = 15, face = 'bold', color = 'darkmagenta'),\n",
    "             axis.text.x = element_text(size = 13),\n",
    "             axis.text.y = element_text(size = 13),\n",
    "             legend.title = element_text(size = 13, color = 'darkmagenta'),\n",
    "             legend.text = element_text(size = 12))\n",
    "    "
   ]
  },
  {
   "cell_type": "code",
   "execution_count": 130,
   "metadata": {},
   "outputs": [
    {
     "data": {
      "image/png": "[encoded data removed]",
      "text/plain": [
       "plot without title"
      ]
     },
     "metadata": {
      "image/png": {
       "height": 420,
       "width": 780
      },
      "text/plain": {
       "height": 420,
       "width": 780
      }
     },
     "output_type": "display_data"
    }
   ],
   "source": [
    "options(repr.plot.width = 13, repr.plot.height = 7)\n",
    "g = ggplot(data =df, aes(x =area_income, y = daily_internet_usage, col= clicked_on_ad)) + \n",
    "    geom_count() + \n",
    "    labs(title = 'Area income Vs Daily internet usage', y = 'Daily internet usage', x = 'Area income', fill = 'Clicked on ad') +\n",
    "    scale_color_brewer(palette = 'Set1') +\n",
    "    theme(plot.title = element_text(size = 18, face = 'bold', color = 'darkmagenta'),\n",
    "             axis.title.x = element_text(size = 15, face = 'bold', color = 'darkmagenta'),\n",
    "             axis.title.y = element_text(size = 15, face = 'bold', color = 'darkmagenta'),\n",
    "             axis.text.x = element_text(size = 13),\n",
    "             axis.text.y = element_text(size = 13),\n",
    "             legend.title = element_text(size = 13, color = 'darkmagenta'),\n",
    "             legend.text = element_text(size = 13))\n",
    "\n",
    "ggMarginal(g, type = \"histogram\", fill=\"cyan\")\n",
    "ggMarginal(g, type = \"boxplot\", fill=\"transparent\")\n",
    "ggMarginal(g, type = \"density\", fill=\"transparent\")"
   ]
  },
  {
   "cell_type": "code",
   "execution_count": 152,
   "metadata": {},
   "outputs": [
    {
     "data": {
      "image/png": "[encoded data removed]",
      "text/plain": [
       "plot without title"
      ]
     },
     "metadata": {
      "image/png": {
       "height": 420,
       "width": 780
      },
      "text/plain": {
       "height": 420,
       "width": 780
      }
     },
     "output_type": "display_data"
    }
   ],
   "source": [
    "corr = round(cor(select_if(df, is.numeric)), 2)\n",
    "ggcorrplot(corr, hc.order = T, ggtheme = ggplot2::theme_gray,\n",
    "   colors = c(\"#6D9EC1\", \"white\", \"#E46726\"), lab = T)"
   ]
  },
  {
   "cell_type": "markdown",
   "metadata": {},
   "source": [
    "### Univariate analysis"
   ]
  },
  {
   "cell_type": "code",
   "execution_count": 18,
   "metadata": {},
   "outputs": [
    {
     "data": {
      "image/png": "[encoded data removed]",
      "text/plain": [
       "Plot with title \"Age distribution\""
      ]
     },
     "metadata": {
      "image/png": {
       "height": 420,
       "width": 420
      },
      "text/plain": {
       "height": 420,
       "width": 420
      }
     },
     "output_type": "display_data"
    }
   ],
   "source": [
    "# Plotting a histogram to check for the distribution of the age\n",
    "hist(df$age, col = 'darkmagenta',\n",
    "    main = 'Age distribution',\n",
    "    xlab = 'Age',\n",
    "    ylab = 'Frequency')"
   ]
  },
  {
   "cell_type": "markdown",
   "metadata": {},
   "source": [
    "*Inferences drawn from the above plot include;*\n",
    " - *The minimum age in the dataset is 5*\n",
    " - *The maximum age is more than 60*\n",
    " - *The age distribution is skewed to the right*\n",
    " - *Majority of individuals in the dataset are between the ages of 30 and 35*"
   ]
  },
  {
   "cell_type": "markdown",
   "metadata": {},
   "source": [
    "## Bivariate analysis"
   ]
  },
  {
   "cell_type": "code",
   "execution_count": 40,
   "metadata": {},
   "outputs": [
    {
     "data": {
      "image/png": "[encoded data removed]",
      "text/plain": [
       "plot without title"
      ]
     },
     "metadata": {
      "image/png": {
       "height": 420,
       "width": 420
      },
      "text/plain": {
       "height": 420,
       "width": 420
      }
     },
     "output_type": "display_data"
    }
   ],
   "source": [
    "ggplot(data = df, aes(x = age, y = area_income, col = clicked_on_ad)) + \n",
    "    geom_point()"
   ]
  },
  {
   "cell_type": "code",
   "execution_count": 20,
   "metadata": {},
   "outputs": [
    {
     "data": {
      "image/png": "[encoded data removed]",
      "text/plain": [
       "plot without title"
      ]
     },
     "metadata": {
      "image/png": {
       "height": 420,
       "width": 420
      },
      "text/plain": {
       "height": 420,
       "width": 420
      }
     },
     "output_type": "display_data"
    }
   ],
   "source": [
    "ggplot(data = df, aes(x = age, fill = clicked_on_ad))+\n",
    "    geom_histogram(bins = 35, color = 'cyan')"
   ]
  },
  {
   "cell_type": "code",
   "execution_count": 21,
   "metadata": {},
   "outputs": [
    {
     "data": {
      "image/png": "[encoded data removed]",
      "text/plain": [
       "plot without title"
      ]
     },
     "metadata": {
      "image/png": {
       "height": 420,
       "width": 420
      },
      "text/plain": {
       "height": 420,
       "width": 420
      }
     },
     "output_type": "display_data"
    }
   ],
   "source": [
    "# Frequency polygon\n",
    "ggplot(data = df, aes(x = area_income, col = clicked_on_ad))+\n",
    "    geom_freqpoly(bins = 50)"
   ]
  },
  {
   "cell_type": "code",
   "execution_count": 22,
   "metadata": {},
   "outputs": [],
   "source": [
    "# Splitting the data into training and testing sets\n",
    "# Setting the seed to 100, for reproducibility\n",
    "set.seed(100)\n",
    "\n",
    "# Selecting only columns that are relevant to modeling\n",
    "mod_cols = c('daily_time_spent_on_site', 'age', 'area_income', 'daily_internet_usage', 'gender', 'clicked_on_ad')\n",
    "df = select(df, mod_cols)\n",
    "\n",
    "# Splitting the data into 80% training and 20% testing\n",
    "train_rows = createDataPartition(df$clicked_on_ad, p=0.8, list=FALSE)\n",
    "\n",
    "# Creating the training  dataset\n",
    "train = df[train_rows,]\n",
    "\n",
    "# Creating the test dataset\n",
    "test = df[-train_rows,]\n",
    "\n",
    "# Creating the  X and Y variables\n",
    "x = train\n",
    "y = train$clicked_on_ad"
   ]
  },
  {
   "cell_type": "code",
   "execution_count": 23,
   "metadata": {},
   "outputs": [
    {
     "name": "stderr",
     "output_type": "stream",
     "text": [
      "Loading required package: earth\n",
      "\n",
      "Loading required package: Formula\n",
      "\n",
      "Loading required package: plotmo\n",
      "\n",
      "Loading required package: plotrix\n",
      "\n",
      "Loading required package: TeachingDemos\n",
      "\n"
     ]
    }
   ],
   "source": [
    "# Training the model\n",
    "model = train(clicked_on_ad ~ ., data = train, method = 'earth')\n",
    "\n",
    "# Making predictions using the training set\n",
    "pred = predict(model)"
   ]
  },
  {
   "cell_type": "code",
   "execution_count": 24,
   "metadata": {},
   "outputs": [
    {
     "data": {
      "text/plain": [
       "Multivariate Adaptive Regression Spline \n",
       "\n",
       "800 samples\n",
       "  5 predictor\n",
       "  2 classes: 'Yes', 'No' \n",
       "\n",
       "No pre-processing\n",
       "Resampling: Bootstrapped (25 reps) \n",
       "Summary of sample sizes: 800, 800, 800, 800, 800, 800, ... \n",
       "Resampling results across tuning parameters:\n",
       "\n",
       "  nprune  Accuracy   Kappa    \n",
       "   2      0.9016503  0.8031409\n",
       "   6      0.9634582  0.9268097\n",
       "  11      0.9614716  0.9228648\n",
       "\n",
       "Tuning parameter 'degree' was held constant at a value of 1\n",
       "Accuracy was used to select the optimal model using the largest value.\n",
       "The final values used for the model were nprune = 6 and degree = 1."
      ]
     },
     "metadata": {},
     "output_type": "display_data"
    }
   ],
   "source": [
    "# Displaying the parameters and their values in the model\n",
    "model"
   ]
  },
  {
   "cell_type": "code",
   "execution_count": 25,
   "metadata": {},
   "outputs": [
    {
     "data": {
      "image/png": "[encoded data removed]",
      "text/plain": [
       "plot without title"
      ]
     },
     "metadata": {
      "image/png": {
       "height": 420,
       "width": 420
      },
      "text/plain": {
       "height": 420,
       "width": 420
      }
     },
     "output_type": "display_data"
    }
   ],
   "source": [
    "# Plotting the model to show various iterations of the hyperparameters \n",
    "plot(model, main = 'Model accuracies', xlab = 'Model accuracy')"
   ]
  },
  {
   "cell_type": "code",
   "execution_count": 26,
   "metadata": {},
   "outputs": [
    {
     "data": {
      "image/png": "[encoded data removed]",
      "text/plain": [
       "plot without title"
      ]
     },
     "metadata": {
      "image/png": {
       "height": 420,
       "width": 420
      },
      "text/plain": {
       "height": 420,
       "width": 420
      }
     },
     "output_type": "display_data"
    }
   ],
   "source": [
    "# Checking which features were important in predicting the target variable\n",
    "important_features = varImp(model)\n",
    "\n",
    "# Plotting feature importance\n",
    "plot(important_features, main = 'Feature importance')"
   ]
  },
  {
   "cell_type": "markdown",
   "metadata": {},
   "source": [
    "*Features that are important in predicting the target in rank of importance;*\n",
    " 1. Daily internet use\n",
    " 2. Daily time spent on site\n",
    " 3. Area income\n",
    " 4. Age\n",
    " 5. Gender"
   ]
  },
  {
   "cell_type": "code",
   "execution_count": 27,
   "metadata": {},
   "outputs": [
    {
     "data": {
      "text/html": [
       "<ol class=list-inline>\n",
       "\t<li>Yes</li>\n",
       "\t<li>Yes</li>\n",
       "\t<li>No</li>\n",
       "\t<li>Yes</li>\n",
       "\t<li>No</li>\n",
       "\t<li>No</li>\n",
       "</ol>\n",
       "\n",
       "<details>\n",
       "\t<summary style=display:list-item;cursor:pointer>\n",
       "\t\t<strong>Levels</strong>:\n",
       "\t</summary>\n",
       "\t<ol class=list-inline>\n",
       "\t\t<li>'Yes'</li>\n",
       "\t\t<li>'No'</li>\n",
       "\t</ol>\n",
       "</details>"
      ],
      "text/latex": [
       "\\begin{enumerate*}\n",
       "\\item Yes\n",
       "\\item Yes\n",
       "\\item No\n",
       "\\item Yes\n",
       "\\item No\n",
       "\\item No\n",
       "\\end{enumerate*}\n",
       "\n",
       "\\emph{Levels}: \\begin{enumerate*}\n",
       "\\item 'Yes'\n",
       "\\item 'No'\n",
       "\\end{enumerate*}\n"
      ],
      "text/markdown": [
       "1. Yes\n",
       "2. Yes\n",
       "3. No\n",
       "4. Yes\n",
       "5. No\n",
       "6. No\n",
       "\n",
       "\n",
       "\n",
       "**Levels**: 1. 'Yes'\n",
       "2. 'No'\n",
       "\n",
       "\n"
      ],
      "text/plain": [
       "[1] Yes Yes No  Yes No  No \n",
       "Levels: Yes No"
      ]
     },
     "metadata": {},
     "output_type": "display_data"
    }
   ],
   "source": [
    "# Previewing the first five predictions\n",
    "y_pred = predict(model, test)\n",
    "head(y_pred)"
   ]
  },
  {
   "cell_type": "markdown",
   "metadata": {},
   "source": [
    "### Confusion Matrix"
   ]
  },
  {
   "cell_type": "code",
   "execution_count": 28,
   "metadata": {},
   "outputs": [
    {
     "data": {
      "text/plain": [
       "Confusion Matrix and Statistics\n",
       "\n",
       "          Reference\n",
       "Prediction Yes No\n",
       "       Yes  98  3\n",
       "       No    2 97\n",
       "                                          \n",
       "               Accuracy : 0.975           \n",
       "                 95% CI : (0.9426, 0.9918)\n",
       "    No Information Rate : 0.5             \n",
       "    P-Value [Acc > NIR] : <2e-16          \n",
       "                                          \n",
       "                  Kappa : 0.95            \n",
       "                                          \n",
       " Mcnemar's Test P-Value : 1               \n",
       "                                          \n",
       "            Sensitivity : 0.9800          \n",
       "            Specificity : 0.9700          \n",
       "         Pos Pred Value : 0.9703          \n",
       "         Neg Pred Value : 0.9798          \n",
       "              Precision : 0.9703          \n",
       "                 Recall : 0.9800          \n",
       "                     F1 : 0.9751          \n",
       "             Prevalence : 0.5000          \n",
       "         Detection Rate : 0.4900          \n",
       "   Detection Prevalence : 0.5050          \n",
       "      Balanced Accuracy : 0.9750          \n",
       "                                          \n",
       "       'Positive' Class : Yes             \n",
       "                                          "
      ]
     },
     "metadata": {},
     "output_type": "display_data"
    }
   ],
   "source": [
    "# Displaying the confusion matrix\n",
    "confusionMatrix(reference = test$clicked_on_ad, data = y_pred, mode='everything', positive = 'Yes')"
   ]
  },
  {
   "cell_type": "code",
   "execution_count": 29,
   "metadata": {},
   "outputs": [
    {
     "data": {
      "text/plain": [
       "Multivariate Adaptive Regression Spline \n",
       "\n",
       "800 samples\n",
       "  5 predictor\n",
       "  2 classes: 'Yes', 'No' \n",
       "\n",
       "No pre-processing\n",
       "Resampling: Cross-Validated (5 fold) \n",
       "Summary of sample sizes: 640, 640, 640, 640, 640 \n",
       "Resampling results across tuning parameters:\n",
       "\n",
       "  nprune  ROC        Sens    Spec  \n",
       "   2      0.9539062  0.9100  0.8900\n",
       "   4      0.9787969  0.9675  0.9300\n",
       "   6      0.9869375  0.9750  0.9500\n",
       "   8      0.9873125  0.9650  0.9525\n",
       "  11      0.9872188  0.9700  0.9575\n",
       "\n",
       "Tuning parameter 'degree' was held constant at a value of 1\n",
       "ROC was used to select the optimal model using the largest value.\n",
       "The final values used for the model were nprune = 8 and degree = 1."
      ]
     },
     "metadata": {},
     "output_type": "display_data"
    },
    {
     "data": {
      "text/plain": [
       "Confusion Matrix and Statistics\n",
       "\n",
       "          Reference\n",
       "Prediction Yes No\n",
       "       Yes  98  3\n",
       "       No    2 97\n",
       "                                          \n",
       "               Accuracy : 0.975           \n",
       "                 95% CI : (0.9426, 0.9918)\n",
       "    No Information Rate : 0.5             \n",
       "    P-Value [Acc > NIR] : <2e-16          \n",
       "                                          \n",
       "                  Kappa : 0.95            \n",
       "                                          \n",
       " Mcnemar's Test P-Value : 1               \n",
       "                                          \n",
       "            Sensitivity : 0.9800          \n",
       "            Specificity : 0.9700          \n",
       "         Pos Pred Value : 0.9703          \n",
       "         Neg Pred Value : 0.9798          \n",
       "              Precision : 0.9703          \n",
       "                 Recall : 0.9800          \n",
       "                     F1 : 0.9751          \n",
       "             Prevalence : 0.5000          \n",
       "         Detection Rate : 0.4900          \n",
       "   Detection Prevalence : 0.5050          \n",
       "      Balanced Accuracy : 0.9750          \n",
       "                                          \n",
       "       'Positive' Class : Yes             \n",
       "                                          "
      ]
     },
     "metadata": {},
     "output_type": "display_data"
    }
   ],
   "source": [
    "# Defining the training control\n",
    "fitControl <- trainControl(\n",
    "    method = 'cv',                   # k-fold cross validation\n",
    "    number = 5,                      # number of folds\n",
    "    savePredictions = 'final',       # saves predictions for optimal tuning parameter\n",
    "    classProbs = T,                  # should class probabilities be returned\n",
    "    summaryFunction=twoClassSummary  # results summary function\n",
    ") \n",
    "\n",
    "# Tuning the hyper parameters by setting tuneLength\n",
    "set.seed(100)\n",
    "model_2 = train(clicked_on_ad ~ ., data=train, method='earth', tuneLength = 5, metric='accuracy', trControl = fitControl)\n",
    "model_2\n",
    "\n",
    "# Step 2: Predict on testData and Compute the confusion matrix\n",
    "y_pred_2 <- predict(model_2, test)\n",
    "confusionMatrix(reference = test$clicked_on_ad, data = y_pred_2, mode='everything', positive='Yes')"
   ]
  },
  {
   "cell_type": "markdown",
   "metadata": {},
   "source": [
    "### Hyper parameter tuning using tuneGrid"
   ]
  },
  {
   "cell_type": "code",
   "execution_count": 30,
   "metadata": {},
   "outputs": [
    {
     "data": {
      "text/plain": [
       "Multivariate Adaptive Regression Spline \n",
       "\n",
       "800 samples\n",
       "  5 predictor\n",
       "  2 classes: 'Yes', 'No' \n",
       "\n",
       "No pre-processing\n",
       "Resampling: Cross-Validated (5 fold) \n",
       "Summary of sample sizes: 640, 640, 640, 640, 640 \n",
       "Resampling results across tuning parameters:\n",
       "\n",
       "  degree  nprune  ROC        Sens    Spec  \n",
       "  1        2      0.9539062  0.9100  0.8900\n",
       "  1        4      0.9787969  0.9675  0.9300\n",
       "  1        6      0.9869375  0.9750  0.9500\n",
       "  1        8      0.9873125  0.9650  0.9525\n",
       "  1       10      0.9870937  0.9675  0.9500\n",
       "  2        2      0.9535938  0.9125  0.8900\n",
       "  2        4      0.9843594  0.9600  0.9400\n",
       "  2        6      0.9856875  0.9625  0.9425\n",
       "  2        8      0.9860156  0.9725  0.9500\n",
       "  2       10      0.9862344  0.9700  0.9525\n",
       "  3        2      0.9535938  0.9125  0.8900\n",
       "  3        4      0.9856250  0.9700  0.9500\n",
       "  3        6      0.9876406  0.9700  0.9450\n",
       "  3        8      0.9880625  0.9600  0.9525\n",
       "  3       10      0.9861250  0.9725  0.9525\n",
       "\n",
       "ROC was used to select the optimal model using the largest value.\n",
       "The final values used for the model were nprune = 8 and degree = 3."
      ]
     },
     "metadata": {},
     "output_type": "display_data"
    },
    {
     "data": {
      "text/plain": [
       "Confusion Matrix and Statistics\n",
       "\n",
       "          Reference\n",
       "Prediction Yes No\n",
       "       Yes  96  3\n",
       "       No    4 97\n",
       "                                          \n",
       "               Accuracy : 0.965           \n",
       "                 95% CI : (0.9292, 0.9858)\n",
       "    No Information Rate : 0.5             \n",
       "    P-Value [Acc > NIR] : <2e-16          \n",
       "                                          \n",
       "                  Kappa : 0.93            \n",
       "                                          \n",
       " Mcnemar's Test P-Value : 1               \n",
       "                                          \n",
       "            Sensitivity : 0.9600          \n",
       "            Specificity : 0.9700          \n",
       "         Pos Pred Value : 0.9697          \n",
       "         Neg Pred Value : 0.9604          \n",
       "              Precision : 0.9697          \n",
       "                 Recall : 0.9600          \n",
       "                     F1 : 0.9648          \n",
       "             Prevalence : 0.5000          \n",
       "         Detection Rate : 0.4800          \n",
       "   Detection Prevalence : 0.4950          \n",
       "      Balanced Accuracy : 0.9650          \n",
       "                                          \n",
       "       'Positive' Class : Yes             \n",
       "                                          "
      ]
     },
     "metadata": {},
     "output_type": "display_data"
    }
   ],
   "source": [
    "# Defining gthe parameters to tune\n",
    "params = expand.grid(nprune = c(2, 4, 6, 8, 10), \n",
    "                        degree = c(1, 2, 3))\n",
    "\n",
    "# Tuning hyper parameters by setting tuneGrid\n",
    "set.seed(100)\n",
    "model_3 = train(clicked_on_ad ~ ., data=train, method='earth', metric='accuracy', tuneGrid = params, trControl = fitControl)\n",
    "model_3\n",
    "\n",
    "# Predicting the test set and computing the confusion matrix\n",
    "y_pred_3 = predict(model_3, test)\n",
    "confusionMatrix(reference = test$clicked_on_ad, data = y_pred_3, mode='everything', positive='Yes')"
   ]
  },
  {
   "cell_type": "markdown",
   "metadata": {},
   "source": [
    "*The mode has an accuracy score of 96.5%*"
   ]
  },
  {
   "cell_type": "markdown",
   "metadata": {},
   "source": [
    "## Chalenging the solution\n",
    "\n",
    "*__The following models have been used to challenge the solution;__*\n",
    " - Adaboost\n",
    " - Random forest\n",
    " - Xgboost\n",
    " - Support vector machine"
   ]
  },
  {
   "cell_type": "markdown",
   "metadata": {},
   "source": [
    "### Adaboost"
   ]
  },
  {
   "cell_type": "code",
   "execution_count": 37,
   "metadata": {},
   "outputs": [
    {
     "data": {
      "text/plain": [
       "AdaBoost Classification Trees \n",
       "\n",
       "800 samples\n",
       "  5 predictor\n",
       "  2 classes: 'Yes', 'No' \n",
       "\n",
       "No pre-processing\n",
       "Resampling: Cross-Validated (5 fold) \n",
       "Summary of sample sizes: 640, 640, 640, 640, 640 \n",
       "Resampling results across tuning parameters:\n",
       "\n",
       "  nIter  method         ROC        Sens    Spec  \n",
       "   50    Adaboost.M1    0.9836875  0.9675  0.9450\n",
       "   50    Real adaboost  0.8600156  0.9725  0.9450\n",
       "  100    Adaboost.M1    0.9846563  0.9700  0.9475\n",
       "  100    Real adaboost  0.8523594  0.9800  0.9475\n",
       "\n",
       "ROC was used to select the optimal model using the largest value.\n",
       "The final values used for the model were nIter = 100 and method = Adaboost.M1."
      ]
     },
     "metadata": {},
     "output_type": "display_data"
    }
   ],
   "source": [
    "set.seed(100)\n",
    "\n",
    "# Training the model using adaboost\n",
    "model_adaboost = train(clicked_on_ad ~ ., data=train, method='adaboost', tuneLength=2, trControl = fitControl)\n",
    "model_adaboost"
   ]
  },
  {
   "cell_type": "markdown",
   "metadata": {},
   "source": [
    "### Random Forest "
   ]
  },
  {
   "cell_type": "code",
   "execution_count": 31,
   "metadata": {},
   "outputs": [
    {
     "name": "stdout",
     "output_type": "stream",
     "text": [
      "note: only 4 unique complexity parameters in default grid. Truncating the grid to 4 .\n",
      "\n"
     ]
    },
    {
     "data": {
      "text/plain": [
       "Random Forest \n",
       "\n",
       "800 samples\n",
       "  5 predictor\n",
       "  2 classes: 'Yes', 'No' \n",
       "\n",
       "No pre-processing\n",
       "Resampling: Cross-Validated (5 fold) \n",
       "Summary of sample sizes: 640, 640, 640, 640, 640 \n",
       "Resampling results across tuning parameters:\n",
       "\n",
       "  mtry  ROC        Sens    Spec  \n",
       "  2     0.9894063  0.9675  0.9550\n",
       "  3     0.9876563  0.9675  0.9550\n",
       "  4     0.9865625  0.9625  0.9500\n",
       "  5     0.9845625  0.9500  0.9525\n",
       "\n",
       "ROC was used to select the optimal model using the largest value.\n",
       "The final value used for the model was mtry = 2."
      ]
     },
     "metadata": {},
     "output_type": "display_data"
    }
   ],
   "source": [
    "set.seed(100)\n",
    "\n",
    "# Train the model using rf\n",
    "model_rf = train(clicked_on_ad ~ ., data=train, method='rf', tuneLength=5, trControl = fitControl)\n",
    "model_rf"
   ]
  },
  {
   "cell_type": "markdown",
   "metadata": {},
   "source": [
    "### Xgboost"
   ]
  },
  {
   "cell_type": "code",
   "execution_count": 32,
   "metadata": {},
   "outputs": [
    {
     "data": {
      "text/plain": [
       "eXtreme Gradient Boosting \n",
       "\n",
       "800 samples\n",
       "  5 predictor\n",
       "  2 classes: 'Yes', 'No' \n",
       "\n",
       "No pre-processing\n",
       "Resampling: Cross-Validated (5 fold) \n",
       "Summary of sample sizes: 640, 640, 640, 640, 640 \n",
       "Resampling results across tuning parameters:\n",
       "\n",
       "  eta  rate_drop  skip_drop  colsample_bytree  ROC        Sens    Spec  \n",
       "  0.3  0.01       0.05       0.6               0.9874844  0.9675  0.9500\n",
       "  0.3  0.01       0.05       0.8               0.9868125  0.9675  0.9475\n",
       "  0.3  0.01       0.95       0.6               0.9871562  0.9600  0.9500\n",
       "  0.3  0.01       0.95       0.8               0.9881719  0.9625  0.9550\n",
       "  0.3  0.50       0.05       0.6               0.9784531  0.9350  0.9075\n",
       "  0.3  0.50       0.05       0.8               0.9768594  0.9375  0.9000\n",
       "  0.3  0.50       0.95       0.6               0.9877187  0.9625  0.9525\n",
       "  0.3  0.50       0.95       0.8               0.9888125  0.9650  0.9475\n",
       "  0.4  0.01       0.05       0.6               0.9889062  0.9725  0.9500\n",
       "  0.4  0.01       0.05       0.8               0.9890000  0.9625  0.9450\n",
       "  0.4  0.01       0.95       0.6               0.9866094  0.9575  0.9475\n",
       "  0.4  0.01       0.95       0.8               0.9877656  0.9700  0.9475\n",
       "  0.4  0.50       0.05       0.6               0.9840313  0.9500  0.9200\n",
       "  0.4  0.50       0.05       0.8               0.9773594  0.9325  0.9025\n",
       "  0.4  0.50       0.95       0.6               0.9862500  0.9625  0.9525\n",
       "  0.4  0.50       0.95       0.8               0.9861562  0.9625  0.9500\n",
       "\n",
       "Tuning parameter 'nrounds' was held constant at a value of 50\n",
       "Tuning\n",
       " parameter 'subsample' was held constant at a value of 0.5\n",
       "Tuning\n",
       " parameter 'min_child_weight' was held constant at a value of 1\n",
       "ROC was used to select the optimal model using the largest value.\n",
       "The final values used for the model were nrounds = 50, max_depth = 1, eta\n",
       " = 0.4, gamma = 0, subsample = 0.5, colsample_bytree = 0.8, rate_drop =\n",
       " 0.01, skip_drop = 0.05 and min_child_weight = 1."
      ]
     },
     "metadata": {},
     "output_type": "display_data"
    }
   ],
   "source": [
    "set.seed(100)\n",
    "\n",
    "# Train the model using xgboost\n",
    "model_xgbDART = train(clicked_on_ad ~ ., data=train, method='xgbDART', tuneLength=1, trControl = fitControl, verbose=F)\n",
    "model_xgbDART"
   ]
  },
  {
   "cell_type": "markdown",
   "metadata": {},
   "source": [
    "### Support Vector Machine"
   ]
  },
  {
   "cell_type": "code",
   "execution_count": 35,
   "metadata": {},
   "outputs": [
    {
     "data": {
      "text/plain": [
       "Support Vector Machines with Radial Basis Function Kernel \n",
       "\n",
       "800 samples\n",
       "  5 predictor\n",
       "  2 classes: 'Yes', 'No' \n",
       "\n",
       "No pre-processing\n",
       "Resampling: Cross-Validated (5 fold) \n",
       "Summary of sample sizes: 640, 640, 640, 640, 640 \n",
       "Resampling results:\n",
       "\n",
       "  ROC        Sens    Spec  \n",
       "  0.9909062  0.9775  0.9575\n",
       "\n",
       "Tuning parameter 'sigma' was held constant at a value of 0.2158025\n",
       "\n",
       "Tuning parameter 'C' was held constant at a value of 0.25"
      ]
     },
     "metadata": {},
     "output_type": "display_data"
    }
   ],
   "source": [
    "set.seed(100)\n",
    "\n",
    "# Train the model using support vector machine\n",
    "model_svmRadial = train(clicked_on_ad ~ ., data=train, method='svmRadial', tuneLength=1, trControl = fitControl)\n",
    "model_svmRadial"
   ]
  },
  {
   "cell_type": "markdown",
   "metadata": {},
   "source": [
    "### Model comparison"
   ]
  },
  {
   "cell_type": "code",
   "execution_count": 38,
   "metadata": {},
   "outputs": [
    {
     "data": {
      "text/plain": [
       "\n",
       "Call:\n",
       "summary.resamples(object = models_compare)\n",
       "\n",
       "Models: ADABOOST, RF, XGBDART, MARS, SVM \n",
       "Number of resamples: 5 \n",
       "\n",
       "ROC \n",
       "              Min.   1st Qu.    Median      Mean   3rd Qu.      Max. NA's\n",
       "ADABOOST 0.9792188 0.9840625 0.9843750 0.9846563 0.9867187 0.9889062    0\n",
       "RF       0.9864063 0.9866406 0.9867187 0.9894063 0.9910156 0.9962500    0\n",
       "XGBDART  0.9807813 0.9895312 0.9898438 0.9890000 0.9914063 0.9934375    0\n",
       "MARS     0.9829687 0.9840625 0.9854688 0.9880625 0.9903125 0.9975000    0\n",
       "SVM      0.9840625 0.9873437 0.9915625 0.9909062 0.9921875 0.9993750    0\n",
       "\n",
       "Sens \n",
       "           Min. 1st Qu. Median   Mean 3rd Qu.   Max. NA's\n",
       "ADABOOST 0.9375  0.9750 0.9750 0.9700  0.9750 0.9875    0\n",
       "RF       0.9250  0.9500 0.9750 0.9675  0.9875 1.0000    0\n",
       "XGBDART  0.9375  0.9500 0.9500 0.9625  0.9750 1.0000    0\n",
       "MARS     0.9375  0.9500 0.9625 0.9600  0.9750 0.9750    0\n",
       "SVM      0.9500  0.9625 0.9750 0.9775  1.0000 1.0000    0\n",
       "\n",
       "Spec \n",
       "           Min. 1st Qu. Median   Mean 3rd Qu.  Max. NA's\n",
       "ADABOOST 0.9250  0.9250 0.9500 0.9475  0.9625 0.975    0\n",
       "RF       0.9250  0.9500 0.9625 0.9550  0.9625 0.975    0\n",
       "XGBDART  0.9125  0.9250 0.9500 0.9450  0.9625 0.975    0\n",
       "MARS     0.9250  0.9375 0.9625 0.9525  0.9625 0.975    0\n",
       "SVM      0.9250  0.9625 0.9625 0.9575  0.9625 0.975    0\n"
      ]
     },
     "metadata": {},
     "output_type": "display_data"
    }
   ],
   "source": [
    "# Compare model performances using resample()\n",
    "models_compare = resamples(list(ADABOOST=model_adaboost, RF=model_rf, XGBDART=model_xgbDART, MARS=model_3, SVM=model_svmRadial))\n",
    "\n",
    "# Summary of the models performances\n",
    "summary(models_compare)"
   ]
  },
  {
   "cell_type": "markdown",
   "metadata": {},
   "source": [
    "### Visualising model comparison"
   ]
  },
  {
   "cell_type": "code",
   "execution_count": 39,
   "metadata": {},
   "outputs": [
    {
     "data": {
      "image/png": "[encoded data removed]",
      "text/plain": [
       "plot without title"
      ]
     },
     "metadata": {
      "image/png": {
       "height": 420,
       "width": 420
      },
      "text/plain": {
       "height": 420,
       "width": 420
      }
     },
     "output_type": "display_data"
    }
   ],
   "source": [
    "# Draw box plots to compare models\n",
    "scales = list(x=list(relation=\"free\"), y=list(relation=\"free\"))\n",
    "bwplot(models_compare, scales=scales)"
   ]
  },
  {
   "cell_type": "markdown",
   "metadata": {},
   "source": [
    "## Conclusion\n",
    "\n",
    "*From the above analysis and modelling the **Support Vector Machine **performs better than the other models . To increase the predictive power of the model, more data is needed*"
   ]
  }
 ],
 "metadata": {
  "kernelspec": {
   "display_name": "R",
   "language": "R",
   "name": "ir"
  },
  "language_info": {
   "codemirror_mode": "r",
   "file_extension": ".r",
   "mimetype": "text/x-r-source",
   "name": "R",
   "pygments_lexer": "r",
   "version": "3.6.1"
  }
 },
 "nbformat": 4,
 "nbformat_minor": 2
}
