{
 "cells": [
  {
   "cell_type": "markdown",
   "metadata": {},
   "source": [
    "## Research Question\n",
    "*A Kenyan entrepreneur has created an online cryptography course and would want to advertise it on her blog. She currently targets audiences originating from various countries. In the past, she ran ads to advertise a related course on the same blog and collected data in the process. She would now like to employ your services as a Data Science Consultant to create a solution that would allow her to determine whether ads targeted to audiences of certain characteristics i.e. city, male country, ad topic, etc. would click on her ads. Ceate a prediction model that more accurately predicts whether a user will click an Ad.*\n",
    "\n",
    "## Metrics of success\n",
    "*The accuracy score of the model will be used to measure the predictive power of the model.*"
   ]
  },
  {
   "cell_type": "code",
   "execution_count": 1,
   "metadata": {},
   "outputs": [
    {
     "name": "stderr",
     "output_type": "stream",
     "text": [
      "-- \u001b[1mAttaching packages\u001b[22m --------------------------------------- tidyverse 1.2.1 --\n",
      "\n",
      "\u001b[32mv\u001b[39m \u001b[34mggplot2\u001b[39m 3.2.1     \u001b[32mv\u001b[39m \u001b[34mpurrr  \u001b[39m 0.3.3\n",
      "\u001b[32mv\u001b[39m \u001b[34mtibble \u001b[39m 2.1.3     \u001b[32mv\u001b[39m \u001b[34mdplyr  \u001b[39m 0.8.3\n",
      "\u001b[32mv\u001b[39m \u001b[34mtidyr  \u001b[39m 1.0.0     \u001b[32mv\u001b[39m \u001b[34mstringr\u001b[39m 1.4.0\n",
      "\u001b[32mv\u001b[39m \u001b[34mreadr  \u001b[39m 1.3.1     \u001b[32mv\u001b[39m \u001b[34mforcats\u001b[39m 0.4.0\n",
      "\n",
      "-- \u001b[1mConflicts\u001b[22m ------------------------------------------ tidyverse_conflicts() --\n",
      "\u001b[31mx\u001b[39m \u001b[34mdplyr\u001b[39m::\u001b[32mfilter()\u001b[39m masks \u001b[34mstats\u001b[39m::filter()\n",
      "\u001b[31mx\u001b[39m \u001b[34mdplyr\u001b[39m::\u001b[32mlag()\u001b[39m    masks \u001b[34mstats\u001b[39m::lag()\n",
      "\n",
      "\n",
      "Attaching package: 'magrittr'\n",
      "\n",
      "\n",
      "The following object is masked from 'package:purrr':\n",
      "\n",
      "    set_names\n",
      "\n",
      "\n",
      "The following object is masked from 'package:tidyr':\n",
      "\n",
      "    extract\n",
      "\n",
      "\n",
      "corrplot 0.84 loaded\n",
      "\n"
     ]
    }
   ],
   "source": [
    "# Importing libraries\n",
    "library(tidyverse)\n",
    "library(magrittr)\n",
    "library(corrplot)"
   ]
  },
  {
   "cell_type": "code",
   "execution_count": 2,
   "metadata": {},
   "outputs": [
    {
     "name": "stderr",
     "output_type": "stream",
     "text": [
      "Parsed with column specification:\n",
      "cols(\n",
      "  `Daily Time Spent on Site` = \u001b[32mcol_double()\u001b[39m,\n",
      "  Age = \u001b[32mcol_double()\u001b[39m,\n",
      "  `Area Income` = \u001b[32mcol_double()\u001b[39m,\n",
      "  `Daily Internet Usage` = \u001b[32mcol_double()\u001b[39m,\n",
      "  `Ad Topic Line` = \u001b[31mcol_character()\u001b[39m,\n",
      "  City = \u001b[31mcol_character()\u001b[39m,\n",
      "  Male = \u001b[32mcol_double()\u001b[39m,\n",
      "  Country = \u001b[31mcol_character()\u001b[39m,\n",
      "  Timestamp = \u001b[34mcol_datetime(format = \"\")\u001b[39m,\n",
      "  `Clicked on Ad` = \u001b[32mcol_double()\u001b[39m\n",
      ")\n",
      "\n"
     ]
    },
    {
     "data": {
      "text/html": [
       "<table>\n",
       "<caption>A tibble: 6 × 10</caption>\n",
       "<thead>\n",
       "\t<tr><th scope=col>Daily Time Spent on Site</th><th scope=col>Age</th><th scope=col>Area Income</th><th scope=col>Daily Internet Usage</th><th scope=col>Ad Topic Line</th><th scope=col>City</th><th scope=col>Male</th><th scope=col>Country</th><th scope=col>Timestamp</th><th scope=col>Clicked on Ad</th></tr>\n",
       "\t<tr><th scope=col>&lt;dbl&gt;</th><th scope=col>&lt;dbl&gt;</th><th scope=col>&lt;dbl&gt;</th><th scope=col>&lt;dbl&gt;</th><th scope=col>&lt;chr&gt;</th><th scope=col>&lt;chr&gt;</th><th scope=col>&lt;dbl&gt;</th><th scope=col>&lt;chr&gt;</th><th scope=col>&lt;dttm&gt;</th><th scope=col>&lt;dbl&gt;</th></tr>\n",
       "</thead>\n",
       "<tbody>\n",
       "\t<tr><td>68.95</td><td>35</td><td>61833.90</td><td>256.09</td><td>Cloned 5thgeneration orchestration   </td><td>Wrightburgh   </td><td>0</td><td>Tunisia   </td><td>2016-03-27 00:53:11</td><td>0</td></tr>\n",
       "\t<tr><td>80.23</td><td>31</td><td>68441.85</td><td>193.77</td><td>Monitored national standardization   </td><td>West Jodi     </td><td>1</td><td>Nauru     </td><td>2016-04-04 01:39:02</td><td>0</td></tr>\n",
       "\t<tr><td>69.47</td><td>26</td><td>59785.94</td><td>236.50</td><td>Organic bottom-line service-desk     </td><td>Davidton      </td><td>0</td><td>San Marino</td><td>2016-03-13 20:35:42</td><td>0</td></tr>\n",
       "\t<tr><td>74.15</td><td>29</td><td>54806.18</td><td>245.89</td><td>Triple-buffered reciprocal time-frame</td><td>West Terrifurt</td><td>1</td><td>Italy     </td><td>2016-01-10 02:31:19</td><td>0</td></tr>\n",
       "\t<tr><td>68.37</td><td>35</td><td>73889.99</td><td>225.58</td><td>Robust logistical utilization        </td><td>South Manuel  </td><td>0</td><td>Iceland   </td><td>2016-06-03 03:36:18</td><td>0</td></tr>\n",
       "\t<tr><td>59.99</td><td>23</td><td>59761.56</td><td>226.74</td><td>Sharable client-driven software      </td><td>Jamieberg     </td><td>1</td><td>Norway    </td><td>2016-05-19 14:30:17</td><td>0</td></tr>\n",
       "</tbody>\n",
       "</table>\n"
      ],
      "text/latex": [
       "A tibble: 6 × 10\n",
       "\\begin{tabular}{r|llllllllll}\n",
       " Daily Time Spent on Site & Age & Area Income & Daily Internet Usage & Ad Topic Line & City & Male & Country & Timestamp & Clicked on Ad\\\\\n",
       " <dbl> & <dbl> & <dbl> & <dbl> & <chr> & <chr> & <dbl> & <chr> & <dttm> & <dbl>\\\\\n",
       "\\hline\n",
       "\t 68.95 & 35 & 61833.90 & 256.09 & Cloned 5thgeneration orchestration    & Wrightburgh    & 0 & Tunisia    & 2016-03-27 00:53:11 & 0\\\\\n",
       "\t 80.23 & 31 & 68441.85 & 193.77 & Monitored national standardization    & West Jodi      & 1 & Nauru      & 2016-04-04 01:39:02 & 0\\\\\n",
       "\t 69.47 & 26 & 59785.94 & 236.50 & Organic bottom-line service-desk      & Davidton       & 0 & San Marino & 2016-03-13 20:35:42 & 0\\\\\n",
       "\t 74.15 & 29 & 54806.18 & 245.89 & Triple-buffered reciprocal time-frame & West Terrifurt & 1 & Italy      & 2016-01-10 02:31:19 & 0\\\\\n",
       "\t 68.37 & 35 & 73889.99 & 225.58 & Robust logistical utilization         & South Manuel   & 0 & Iceland    & 2016-06-03 03:36:18 & 0\\\\\n",
       "\t 59.99 & 23 & 59761.56 & 226.74 & Sharable client-driven software       & Jamieberg      & 1 & Norway     & 2016-05-19 14:30:17 & 0\\\\\n",
       "\\end{tabular}\n"
      ],
      "text/markdown": [
       "\n",
       "A tibble: 6 × 10\n",
       "\n",
       "| Daily Time Spent on Site &lt;dbl&gt; | Age &lt;dbl&gt; | Area Income &lt;dbl&gt; | Daily Internet Usage &lt;dbl&gt; | Ad Topic Line &lt;chr&gt; | City &lt;chr&gt; | Male &lt;dbl&gt; | Country &lt;chr&gt; | Timestamp &lt;dttm&gt; | Clicked on Ad &lt;dbl&gt; |\n",
       "|---|---|---|---|---|---|---|---|---|---|\n",
       "| 68.95 | 35 | 61833.90 | 256.09 | Cloned 5thgeneration orchestration    | Wrightburgh    | 0 | Tunisia    | 2016-03-27 00:53:11 | 0 |\n",
       "| 80.23 | 31 | 68441.85 | 193.77 | Monitored national standardization    | West Jodi      | 1 | Nauru      | 2016-04-04 01:39:02 | 0 |\n",
       "| 69.47 | 26 | 59785.94 | 236.50 | Organic bottom-line service-desk      | Davidton       | 0 | San Marino | 2016-03-13 20:35:42 | 0 |\n",
       "| 74.15 | 29 | 54806.18 | 245.89 | Triple-buffered reciprocal time-frame | West Terrifurt | 1 | Italy      | 2016-01-10 02:31:19 | 0 |\n",
       "| 68.37 | 35 | 73889.99 | 225.58 | Robust logistical utilization         | South Manuel   | 0 | Iceland    | 2016-06-03 03:36:18 | 0 |\n",
       "| 59.99 | 23 | 59761.56 | 226.74 | Sharable client-driven software       | Jamieberg      | 1 | Norway     | 2016-05-19 14:30:17 | 0 |\n",
       "\n"
      ],
      "text/plain": [
       "  Daily Time Spent on Site Age Area Income Daily Internet Usage\n",
       "1 68.95                    35  61833.90    256.09              \n",
       "2 80.23                    31  68441.85    193.77              \n",
       "3 69.47                    26  59785.94    236.50              \n",
       "4 74.15                    29  54806.18    245.89              \n",
       "5 68.37                    35  73889.99    225.58              \n",
       "6 59.99                    23  59761.56    226.74              \n",
       "  Ad Topic Line                         City           Male Country   \n",
       "1 Cloned 5thgeneration orchestration    Wrightburgh    0    Tunisia   \n",
       "2 Monitored national standardization    West Jodi      1    Nauru     \n",
       "3 Organic bottom-line service-desk      Davidton       0    San Marino\n",
       "4 Triple-buffered reciprocal time-frame West Terrifurt 1    Italy     \n",
       "5 Robust logistical utilization         South Manuel   0    Iceland   \n",
       "6 Sharable client-driven software       Jamieberg      1    Norway    \n",
       "  Timestamp           Clicked on Ad\n",
       "1 2016-03-27 00:53:11 0            \n",
       "2 2016-04-04 01:39:02 0            \n",
       "3 2016-03-13 20:35:42 0            \n",
       "4 2016-01-10 02:31:19 0            \n",
       "5 2016-06-03 03:36:18 0            \n",
       "6 2016-05-19 14:30:17 0            "
      ]
     },
     "metadata": {},
     "output_type": "display_data"
    }
   ],
   "source": [
    "# Loading the csv file\n",
    "df = read_csv('advertising.csv')\n",
    "\n",
    "# Previewing the first five rows of the dataframe\n",
    "head(df)"
   ]
  },
  {
   "cell_type": "code",
   "execution_count": 3,
   "metadata": {},
   "outputs": [
    {
     "data": {
      "text/html": [
       "<ol class=list-inline>\n",
       "\t<li>'spec_tbl_df'</li>\n",
       "\t<li>'tbl_df'</li>\n",
       "\t<li>'tbl'</li>\n",
       "\t<li>'data.frame'</li>\n",
       "</ol>\n"
      ],
      "text/latex": [
       "\\begin{enumerate*}\n",
       "\\item 'spec\\_tbl\\_df'\n",
       "\\item 'tbl\\_df'\n",
       "\\item 'tbl'\n",
       "\\item 'data.frame'\n",
       "\\end{enumerate*}\n"
      ],
      "text/markdown": [
       "1. 'spec_tbl_df'\n",
       "2. 'tbl_df'\n",
       "3. 'tbl'\n",
       "4. 'data.frame'\n",
       "\n",
       "\n"
      ],
      "text/plain": [
       "[1] \"spec_tbl_df\" \"tbl_df\"      \"tbl\"         \"data.frame\" "
      ]
     },
     "metadata": {},
     "output_type": "display_data"
    }
   ],
   "source": [
    "# Checking the class type of the loaded file\n",
    "class(df)\n",
    "\n",
    "# Changing loaded file to dataframe\n",
    "df = as.data.frame(df)"
   ]
  },
  {
   "cell_type": "code",
   "execution_count": 4,
   "metadata": {},
   "outputs": [
    {
     "name": "stdout",
     "output_type": "stream",
     "text": [
      "Observations: 1,000\n",
      "Variables: 10\n",
      "$ `Daily Time Spent on Site` \u001b[3m\u001b[90m<dbl>\u001b[39m\u001b[23m 68.95, 80.23, 69.47, 74.15, 68.37, 59.99...\n",
      "$ Age                        \u001b[3m\u001b[90m<dbl>\u001b[39m\u001b[23m 35, 31, 26, 29, 35, 23, 33, 48, 30, 20, ...\n",
      "$ `Area Income`              \u001b[3m\u001b[90m<dbl>\u001b[39m\u001b[23m 61833.90, 68441.85, 59785.94, 54806.18, ...\n",
      "$ `Daily Internet Usage`     \u001b[3m\u001b[90m<dbl>\u001b[39m\u001b[23m 256.09, 193.77, 236.50, 245.89, 225.58, ...\n",
      "$ `Ad Topic Line`            \u001b[3m\u001b[90m<chr>\u001b[39m\u001b[23m \"Cloned 5thgeneration orchestration\", \"M...\n",
      "$ City                       \u001b[3m\u001b[90m<chr>\u001b[39m\u001b[23m \"Wrightburgh\", \"West Jodi\", \"Davidton\", ...\n",
      "$ Male                       \u001b[3m\u001b[90m<dbl>\u001b[39m\u001b[23m 0, 1, 0, 1, 0, 1, 0, 1, 1, 1, 0, 1, 1, 0...\n",
      "$ Country                    \u001b[3m\u001b[90m<chr>\u001b[39m\u001b[23m \"Tunisia\", \"Nauru\", \"San Marino\", \"Italy...\n",
      "$ Timestamp                  \u001b[3m\u001b[90m<dttm>\u001b[39m\u001b[23m 2016-03-27 00:53:11, 2016-04-04 01:39:0...\n",
      "$ `Clicked on Ad`            \u001b[3m\u001b[90m<dbl>\u001b[39m\u001b[23m 0, 0, 0, 0, 0, 0, 0, 1, 0, 0, 1, 0, 1, 0...\n"
     ]
    }
   ],
   "source": [
    "# Taking a glimpse on some of the data in the dataframe\n",
    "glimpse(df)"
   ]
  },
  {
   "cell_type": "code",
   "execution_count": 5,
   "metadata": {},
   "outputs": [
    {
     "data": {
      "text/plain": [
       " Daily Time Spent on Site      Age         Area Income    Daily Internet Usage\n",
       " Min.   :32.60            Min.   :19.00   Min.   :13996   Min.   :104.8       \n",
       " 1st Qu.:51.36            1st Qu.:29.00   1st Qu.:47032   1st Qu.:138.8       \n",
       " Median :68.22            Median :35.00   Median :57012   Median :183.1       \n",
       " Mean   :65.00            Mean   :36.01   Mean   :55000   Mean   :180.0       \n",
       " 3rd Qu.:78.55            3rd Qu.:42.00   3rd Qu.:65471   3rd Qu.:218.8       \n",
       " Max.   :91.43            Max.   :61.00   Max.   :79485   Max.   :270.0       \n",
       " Ad Topic Line          City                Male         Country         \n",
       " Length:1000        Length:1000        Min.   :0.000   Length:1000       \n",
       " Class :character   Class :character   1st Qu.:0.000   Class :character  \n",
       " Mode  :character   Mode  :character   Median :0.000   Mode  :character  \n",
       "                                       Mean   :0.481                     \n",
       "                                       3rd Qu.:1.000                     \n",
       "                                       Max.   :1.000                     \n",
       "   Timestamp                   Clicked on Ad\n",
       " Min.   :2016-01-01 02:52:10   Min.   :0.0  \n",
       " 1st Qu.:2016-02-18 02:55:42   1st Qu.:0.0  \n",
       " Median :2016-04-07 17:27:29   Median :0.5  \n",
       " Mean   :2016-04-10 10:34:06   Mean   :0.5  \n",
       " 3rd Qu.:2016-05-31 03:18:14   3rd Qu.:1.0  \n",
       " Max.   :2016-07-24 00:22:16   Max.   :1.0  "
      ]
     },
     "metadata": {},
     "output_type": "display_data"
    }
   ],
   "source": [
    "# Checking some statistical summaries of the data\n",
    "summary(df)"
   ]
  },
  {
   "cell_type": "code",
   "execution_count": 6,
   "metadata": {},
   "outputs": [
    {
     "data": {
      "text/html": [
       "<ol class=list-inline>\n",
       "\t<li>1000</li>\n",
       "\t<li>10</li>\n",
       "</ol>\n"
      ],
      "text/latex": [
       "\\begin{enumerate*}\n",
       "\\item 1000\n",
       "\\item 10\n",
       "\\end{enumerate*}\n"
      ],
      "text/markdown": [
       "1. 1000\n",
       "2. 10\n",
       "\n",
       "\n"
      ],
      "text/plain": [
       "[1] 1000   10"
      ]
     },
     "metadata": {},
     "output_type": "display_data"
    }
   ],
   "source": [
    "# Checking for the dimensions of the dataframe\n",
    "dim(df)"
   ]
  },
  {
   "cell_type": "code",
   "execution_count": null,
   "metadata": {},
   "outputs": [],
   "source": []
  },
  {
   "cell_type": "markdown",
   "metadata": {},
   "source": [
    "*The dataset has 1000 observations with a rank of 10*"
   ]
  },
  {
   "cell_type": "code",
   "execution_count": 7,
   "metadata": {},
   "outputs": [
    {
     "name": "stdout",
     "output_type": "stream",
     "text": [
      " [1] \"daily_time_spent_on_site\" \"age\"                     \n",
      " [3] \"area_income\"              \"daily_internet_usage\"    \n",
      " [5] \"ad_topic_line\"            \"city\"                    \n",
      " [7] \"male\"                     \"country\"                 \n",
      " [9] \"timestamp\"                \"clicked_on_ad\"           \n"
     ]
    }
   ],
   "source": [
    "# Changing column names to lower and replacing spaces with an underscore for readability and easy reference\n",
    "colnames(df) = tolower(str_replace_all(colnames(df), c(' ' = '_')))\n",
    "\n",
    "# Checking whether the column names have been renames appriopriately\n",
    "print(colnames(df))"
   ]
  },
  {
   "cell_type": "markdown",
   "metadata": {},
   "source": [
    "*There are ten variables/ features in the dataset*"
   ]
  },
  {
   "cell_type": "code",
   "execution_count": 8,
   "metadata": {},
   "outputs": [],
   "source": [
    "# The male column should be renamed to gender\n",
    "colnames(df)[colnames(df) == 'male'] = 'gender'"
   ]
  },
  {
   "cell_type": "code",
   "execution_count": 9,
   "metadata": {},
   "outputs": [
    {
     "name": "stdout",
     "output_type": "stream",
     "text": [
      "[1] \"daily_time_spent_on_site\"\n",
      "[1] \"numeric\"\n",
      "\n",
      "[1] \"age\"\n",
      "[1] \"numeric\"\n",
      "\n",
      "[1] \"area_income\"\n",
      "[1] \"numeric\"\n",
      "\n",
      "[1] \"daily_internet_usage\"\n",
      "[1] \"numeric\"\n",
      "\n",
      "[1] \"ad_topic_line\"\n",
      "[1] \"character\"\n",
      "\n",
      "[1] \"city\"\n",
      "[1] \"character\"\n",
      "\n",
      "[1] \"gender\"\n",
      "[1] \"numeric\"\n",
      "\n",
      "[1] \"country\"\n",
      "[1] \"character\"\n",
      "\n",
      "[1] \"timestamp\"\n",
      "[1] \"POSIXct\" \"POSIXt\" \n",
      "\n",
      "[1] \"clicked_on_ad\"\n",
      "[1] \"numeric\"\n",
      "\n"
     ]
    }
   ],
   "source": [
    "# Checking the datatypes for each column\n",
    "columns = colnames(df)\n",
    "for (column in seq(length(colnames(df)))){\n",
    "    print(columns[column])\n",
    "    print(class(df[, column]))\n",
    "    cat('\\n')\n",
    "}"
   ]
  },
  {
   "cell_type": "code",
   "execution_count": 10,
   "metadata": {},
   "outputs": [],
   "source": [
    "# Changing column names to their appriopriate data type\n",
    "# Creating a lists of categorical and numerical columns \n",
    "\n",
    "# List of categorical columns\n",
    "cat_cols = c(\"ad_topic_line\", \"city\", \"gender\", \"country\", \"clicked_on_ad\" )\n",
    "\n",
    "# List of numerical columns\n",
    "num_cols = c(\"daily_time_spent_on_site\", \"age\", \"area_income\", \"daily_internet_usage\")\n",
    "\n",
    "# Changing columns to factors\n",
    "df[,cat_cols] %<>% lapply(function(x) as.factor(as.character(x)))"
   ]
  },
  {
   "cell_type": "code",
   "execution_count": 11,
   "metadata": {},
   "outputs": [
    {
     "name": "stdout",
     "output_type": "stream",
     "text": [
      "[1] \"daily_time_spent_on_site\"\n",
      "[1] \"numeric\"\n",
      "[1] 0\n",
      "\n",
      "[1] \"age\"\n",
      "[1] \"numeric\"\n",
      "[1] 0\n",
      "\n",
      "[1] \"area_income\"\n",
      "[1] \"numeric\"\n",
      "[1] 0\n",
      "\n",
      "[1] \"daily_internet_usage\"\n",
      "[1] \"numeric\"\n",
      "[1] 0\n",
      "\n",
      "[1] \"ad_topic_line\"\n",
      "[1] \"factor\"\n",
      "[1] 1000\n",
      "\n",
      "[1] \"city\"\n",
      "[1] \"factor\"\n",
      "[1] 969\n",
      "\n",
      "[1] \"gender\"\n",
      "[1] \"factor\"\n",
      "[1] 2\n",
      "\n",
      "[1] \"country\"\n",
      "[1] \"factor\"\n",
      "[1] 237\n",
      "\n",
      "[1] \"timestamp\"\n",
      "[1] \"POSIXct\" \"POSIXt\" \n",
      "[1] 0\n",
      "\n",
      "[1] \"clicked_on_ad\"\n",
      "[1] \"factor\"\n",
      "[1] 2\n",
      "\n"
     ]
    }
   ],
   "source": [
    "# Checking whether the datatypes for each column have been changed apprippriately\n",
    "columns = colnames(df)\n",
    "for (column in seq(length(colnames(df)))){\n",
    "    print(columns[column])\n",
    "    print(class(df[, column]))\n",
    "    print(nlevels(df[, column]))\n",
    "    cat('\\n')\n",
    "}"
   ]
  },
  {
   "cell_type": "markdown",
   "metadata": {},
   "source": [
    "*Inferences that can be drawn from the above summary:*\n",
    " - *There are 969 unique cities in the dataset.*\n",
    " - *There are 237 inique counties in the dataset*\n",
    " - *All the values in the ___ad_topic_line___ variable are unique, therefore they wont add new information when modelling*"
   ]
  },
  {
   "cell_type": "code",
   "execution_count": 12,
   "metadata": {},
   "outputs": [
    {
     "data": {
      "text/html": [
       "<dl class=dl-horizontal>\n",
       "\t<dt>daily_time_spent_on_site</dt>\n",
       "\t\t<dd>0</dd>\n",
       "\t<dt>age</dt>\n",
       "\t\t<dd>0</dd>\n",
       "\t<dt>area_income</dt>\n",
       "\t\t<dd>0</dd>\n",
       "\t<dt>daily_internet_usage</dt>\n",
       "\t\t<dd>0</dd>\n",
       "\t<dt>ad_topic_line</dt>\n",
       "\t\t<dd>0</dd>\n",
       "\t<dt>city</dt>\n",
       "\t\t<dd>0</dd>\n",
       "\t<dt>gender</dt>\n",
       "\t\t<dd>0</dd>\n",
       "\t<dt>country</dt>\n",
       "\t\t<dd>0</dd>\n",
       "\t<dt>timestamp</dt>\n",
       "\t\t<dd>0</dd>\n",
       "\t<dt>clicked_on_ad</dt>\n",
       "\t\t<dd>0</dd>\n",
       "</dl>\n"
      ],
      "text/latex": [
       "\\begin{description*}\n",
       "\\item[daily\\textbackslash{}\\_time\\textbackslash{}\\_spent\\textbackslash{}\\_on\\textbackslash{}\\_site] 0\n",
       "\\item[age] 0\n",
       "\\item[area\\textbackslash{}\\_income] 0\n",
       "\\item[daily\\textbackslash{}\\_internet\\textbackslash{}\\_usage] 0\n",
       "\\item[ad\\textbackslash{}\\_topic\\textbackslash{}\\_line] 0\n",
       "\\item[city] 0\n",
       "\\item[gender] 0\n",
       "\\item[country] 0\n",
       "\\item[timestamp] 0\n",
       "\\item[clicked\\textbackslash{}\\_on\\textbackslash{}\\_ad] 0\n",
       "\\end{description*}\n"
      ],
      "text/markdown": [
       "daily_time_spent_on_site\n",
       ":   0age\n",
       ":   0area_income\n",
       ":   0daily_internet_usage\n",
       ":   0ad_topic_line\n",
       ":   0city\n",
       ":   0gender\n",
       ":   0country\n",
       ":   0timestamp\n",
       ":   0clicked_on_ad\n",
       ":   0\n",
       "\n"
      ],
      "text/plain": [
       "daily_time_spent_on_site                      age              area_income \n",
       "                       0                        0                        0 \n",
       "    daily_internet_usage            ad_topic_line                     city \n",
       "                       0                        0                        0 \n",
       "                  gender                  country                timestamp \n",
       "                       0                        0                        0 \n",
       "           clicked_on_ad \n",
       "                       0 "
      ]
     },
     "metadata": {},
     "output_type": "display_data"
    }
   ],
   "source": [
    "# Checking for missing values\n",
    "colSums(is.na(df))"
   ]
  },
  {
   "cell_type": "markdown",
   "metadata": {},
   "source": [
    "*There are no missing values in the dataset*"
   ]
  },
  {
   "cell_type": "code",
   "execution_count": 13,
   "metadata": {},
   "outputs": [
    {
     "data": {
      "text/html": [
       "0"
      ],
      "text/latex": [
       "0"
      ],
      "text/markdown": [
       "0"
      ],
      "text/plain": [
       "[1] 0"
      ]
     },
     "metadata": {},
     "output_type": "display_data"
    }
   ],
   "source": [
    "# Checking for duplicates\n",
    "anyDuplicated(df)"
   ]
  },
  {
   "cell_type": "markdown",
   "metadata": {},
   "source": [
    "*There is no duplicated data in the dataset*"
   ]
  },
  {
   "cell_type": "code",
   "execution_count": 14,
   "metadata": {},
   "outputs": [
    {
     "data": {
      "text/plain": [
       "\n",
       "  0   1 \n",
       "519 481 "
      ]
     },
     "metadata": {},
     "output_type": "display_data"
    }
   ],
   "source": [
    "# Frequency tables\n",
    "table(df$gender)"
   ]
  },
  {
   "cell_type": "markdown",
   "metadata": {},
   "source": [
    "*The gender variable is fairly balanced, with females slightly more than the males*"
   ]
  },
  {
   "cell_type": "code",
   "execution_count": 15,
   "metadata": {},
   "outputs": [
    {
     "data": {
      "text/plain": [
       "\n",
       "  0   1 \n",
       "500 500 "
      ]
     },
     "metadata": {},
     "output_type": "display_data"
    }
   ],
   "source": [
    "table(df$clicked_on_ad)"
   ]
  },
  {
   "cell_type": "markdown",
   "metadata": {},
   "source": [
    "*The dataset is well balanced with a ratio of ___1:1___*"
   ]
  },
  {
   "cell_type": "markdown",
   "metadata": {},
   "source": [
    "### Univariate analysis"
   ]
  },
  {
   "cell_type": "code",
   "execution_count": 27,
   "metadata": {},
   "outputs": [
    {
     "data": {
      "image/png": "[encoded data removed]",
      "text/plain": [
       "Plot with title \"Age distribution\""
      ]
     },
     "metadata": {
      "image/png": {
       "height": 420,
       "width": 420
      },
      "text/plain": {
       "height": 420,
       "width": 420
      }
     },
     "output_type": "display_data"
    }
   ],
   "source": [
    "# Plotting a histogram to check for the distribution of the age\n",
    "hist(df$age, col = 'darkmagenta',\n",
    "    main = 'Age distribution',\n",
    "    xlab = 'Age',\n",
    "    ylab = 'Frequency')"
   ]
  },
  {
   "cell_type": "markdown",
   "metadata": {},
   "source": [
    "*Inferences drawn from the above plot include;*\n",
    " - *The minimum age in the dataset is 5*\n",
    " - *The maximum age is 70*\n",
    " - *The age distribution is skewed to the right*\n",
    " - *Majority of individuals in the dataset are between the ages of 30 and 35*"
   ]
  },
  {
   "cell_type": "markdown",
   "metadata": {},
   "source": [
    "## Bivariate analysis"
   ]
  },
  {
   "cell_type": "code",
   "execution_count": 19,
   "metadata": {},
   "outputs": [
    {
     "data": {
      "image/png": "[encoded data removed]",
      "text/plain": [
       "plot without title"
      ]
     },
     "metadata": {
      "image/png": {
       "height": 420,
       "width": 420
      },
      "text/plain": {
       "height": 420,
       "width": 420
      }
     },
     "output_type": "display_data"
    }
   ],
   "source": [
    "ggplot(data = df, aes(x = age, y = area_income, col = clicked_on_ad)) + \n",
    "    geom_point()"
   ]
  },
  {
   "cell_type": "code",
   "execution_count": 28,
   "metadata": {},
   "outputs": [
    {
     "data": {
      "image/png": "[encoded data removed]",
      "text/plain": [
       "Plot with title \"Income VS Age\""
      ]
     },
     "metadata": {
      "image/png": {
       "height": 420,
       "width": 420
      },
      "text/plain": {
       "height": 420,
       "width": 420
      }
     },
     "output_type": "display_data"
    }
   ],
   "source": [
    "plot(df$age, df$area_income, \n",
    "     pch = 19, col = 'darkmagenta',\n",
    "     ylab = 'Area income', xlab = 'Age',\n",
    "    main = 'Income VS Age')"
   ]
  },
  {
   "cell_type": "code",
   "execution_count": 21,
   "metadata": {},
   "outputs": [
    {
     "data": {
      "image/png": "[encoded data removed]",
      "text/plain": [
       "plot without title"
      ]
     },
     "metadata": {
      "image/png": {
       "height": 420,
       "width": 420
      },
      "text/plain": {
       "height": 420,
       "width": 420
      }
     },
     "output_type": "display_data"
    }
   ],
   "source": [
    "ggplot(data = df, aes(x = age, fill = clicked_on_ad))+\n",
    "    geom_histogram(bins = 35, color = 'cyan')"
   ]
  },
  {
   "cell_type": "code",
   "execution_count": 26,
   "metadata": {},
   "outputs": [
    {
     "data": {
      "image/png": "[encoded data removed]",
      "text/plain": [
       "plot without title"
      ]
     },
     "metadata": {
      "image/png": {
       "height": 420,
       "width": 420
      },
      "text/plain": {
       "height": 420,
       "width": 420
      }
     },
     "output_type": "display_data"
    }
   ],
   "source": [
    "# Frequency polygon\n",
    "ggplot(data = df, aes(x = area_income, col = clicked_on_ad))+\n",
    "    geom_freqpoly(bins = 50)"
   ]
  },
  {
   "cell_type": "code",
   "execution_count": null,
   "metadata": {},
   "outputs": [],
   "source": []
  },
  {
   "cell_type": "code",
   "execution_count": null,
   "metadata": {},
   "outputs": [],
   "source": []
  },
  {
   "cell_type": "code",
   "execution_count": null,
   "metadata": {},
   "outputs": [],
   "source": []
  },
  {
   "cell_type": "code",
   "execution_count": null,
   "metadata": {},
   "outputs": [],
   "source": []
  },
  {
   "cell_type": "code",
   "execution_count": null,
   "metadata": {},
   "outputs": [],
   "source": []
  },
  {
   "cell_type": "code",
   "execution_count": null,
   "metadata": {},
   "outputs": [],
   "source": []
  },
  {
   "cell_type": "code",
   "execution_count": null,
   "metadata": {},
   "outputs": [],
   "source": []
  },
  {
   "cell_type": "code",
   "execution_count": null,
   "metadata": {},
   "outputs": [],
   "source": []
  },
  {
   "cell_type": "code",
   "execution_count": null,
   "metadata": {},
   "outputs": [],
   "source": []
  },
  {
   "cell_type": "code",
   "execution_count": null,
   "metadata": {},
   "outputs": [],
   "source": []
  }
 ],
 "metadata": {
  "kernelspec": {
   "display_name": "R",
   "language": "R",
   "name": "ir"
  },
  "language_info": {
   "codemirror_mode": "r",
   "file_extension": ".r",
   "mimetype": "text/x-r-source",
   "name": "R",
   "pygments_lexer": "r",
   "version": "3.6.1"
  }
 },
 "nbformat": 4,
 "nbformat_minor": 2
}
